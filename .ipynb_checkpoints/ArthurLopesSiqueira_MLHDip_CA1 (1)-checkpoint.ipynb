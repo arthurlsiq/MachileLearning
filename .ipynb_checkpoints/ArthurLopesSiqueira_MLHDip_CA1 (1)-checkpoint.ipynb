{
 "cells": [
  {
   "cell_type": "code",
   "execution_count": 91,
   "id": "f4f89adf",
   "metadata": {},
   "outputs": [],
   "source": [
    "import pandas as pd\n",
    "import numpy as np\n",
    "import seaborn as sns\n",
    "import seaborn as sns ; sns.set()\n",
    "import matplotlib.pyplot as plt\n",
    "from sklearn.preprocessing import StandardScaler\n",
    "%matplotlib inline\n",
    "from sklearn.decomposition import PCA\n",
    "\n",
    "\n",
    "from sklearn.model_selection import train_test_split, cross_val_score\n",
    "\n",
    "from sklearn.model_selection import train_test_split\n",
    "from sklearn.neighbors import KNeighborsRegressor\n",
    "from sklearn.metrics import mean_squared_error\n",
    "from sklearn.impute import SimpleImputer\n",
    "from sklearn.model_selection import train_test_split, GridSearchCV\n",
    "\n",
    "from time import perf_counter\n",
    "import matplotlib.pyplot as plt\n",
    "import seaborn as sns\n",
    "from IPython.display import Markdown, display\n",
    "from sklearn.metrics import r2_score\n",
    "import mglearn\n",
    "\n"
   ]
  },
  {
   "cell_type": "code",
   "execution_count": 2,
   "id": "be344893",
   "metadata": {},
   "outputs": [],
   "source": [
    "df = pd.read_csv(\"houses_to_rent.csv\")"
   ]
  },
  {
   "cell_type": "code",
   "execution_count": 3,
   "id": "45ad93ab",
   "metadata": {},
   "outputs": [
    {
     "name": "stdout",
     "output_type": "stream",
     "text": [
      "<class 'pandas.core.frame.DataFrame'>\n",
      "RangeIndex: 6080 entries, 0 to 6079\n",
      "Data columns (total 14 columns):\n",
      " #   Column          Non-Null Count  Dtype \n",
      "---  ------          --------------  ----- \n",
      " 0   Unnamed: 0      6080 non-null   int64 \n",
      " 1   city            6080 non-null   int64 \n",
      " 2   area            6080 non-null   int64 \n",
      " 3   rooms           6080 non-null   int64 \n",
      " 4   bathroom        6080 non-null   int64 \n",
      " 5   parking spaces  6080 non-null   int64 \n",
      " 6   floor           6080 non-null   object\n",
      " 7   animal          6080 non-null   object\n",
      " 8   furniture       6080 non-null   object\n",
      " 9   hoa             6080 non-null   object\n",
      " 10  rent amount     6080 non-null   object\n",
      " 11  property tax    6080 non-null   object\n",
      " 12  fire insurance  6080 non-null   object\n",
      " 13  total           6080 non-null   object\n",
      "dtypes: int64(6), object(8)\n",
      "memory usage: 665.1+ KB\n"
     ]
    }
   ],
   "source": [
    "df.info()"
   ]
  },
  {
   "cell_type": "code",
   "execution_count": 4,
   "id": "15063b66",
   "metadata": {},
   "outputs": [
    {
     "data": {
      "text/plain": [
       "Unnamed: 0        6080\n",
       "city              6080\n",
       "area              6080\n",
       "rooms             6080\n",
       "bathroom          6080\n",
       "parking spaces    6080\n",
       "floor             6080\n",
       "animal            6080\n",
       "furniture         6080\n",
       "hoa               6080\n",
       "rent amount       6080\n",
       "property tax      6080\n",
       "fire insurance    6080\n",
       "total             6080\n",
       "dtype: int64"
      ]
     },
     "execution_count": 4,
     "metadata": {},
     "output_type": "execute_result"
    }
   ],
   "source": [
    "df.count()"
   ]
  },
  {
   "cell_type": "code",
   "execution_count": 5,
   "id": "a4c79228",
   "metadata": {},
   "outputs": [
    {
     "name": "stdout",
     "output_type": "stream",
     "text": [
      "Unnamed: 0        0\n",
      "city              0\n",
      "area              0\n",
      "rooms             0\n",
      "bathroom          0\n",
      "parking spaces    0\n",
      "floor             0\n",
      "animal            0\n",
      "furniture         0\n",
      "hoa               0\n",
      "rent amount       0\n",
      "property tax      0\n",
      "fire insurance    0\n",
      "total             0\n",
      "dtype: int64\n"
     ]
    }
   ],
   "source": [
    " print(df.isnull().sum())"
   ]
  },
  {
   "cell_type": "code",
   "execution_count": 6,
   "id": "7c5c4522",
   "metadata": {},
   "outputs": [
    {
     "data": {
      "text/plain": [
       "(6080, 14)"
      ]
     },
     "execution_count": 6,
     "metadata": {},
     "output_type": "execute_result"
    }
   ],
   "source": [
    "df.shape"
   ]
  },
  {
   "cell_type": "code",
   "execution_count": 7,
   "id": "331f355a",
   "metadata": {},
   "outputs": [
    {
     "data": {
      "text/html": [
       "<div>\n",
       "<style scoped>\n",
       "    .dataframe tbody tr th:only-of-type {\n",
       "        vertical-align: middle;\n",
       "    }\n",
       "\n",
       "    .dataframe tbody tr th {\n",
       "        vertical-align: top;\n",
       "    }\n",
       "\n",
       "    .dataframe thead th {\n",
       "        text-align: right;\n",
       "    }\n",
       "</style>\n",
       "<table border=\"1\" class=\"dataframe\">\n",
       "  <thead>\n",
       "    <tr style=\"text-align: right;\">\n",
       "      <th></th>\n",
       "      <th>Unnamed: 0</th>\n",
       "      <th>city</th>\n",
       "      <th>area</th>\n",
       "      <th>rooms</th>\n",
       "      <th>bathroom</th>\n",
       "      <th>parking spaces</th>\n",
       "      <th>floor</th>\n",
       "      <th>animal</th>\n",
       "      <th>furniture</th>\n",
       "      <th>hoa</th>\n",
       "      <th>rent amount</th>\n",
       "      <th>property tax</th>\n",
       "      <th>fire insurance</th>\n",
       "      <th>total</th>\n",
       "    </tr>\n",
       "  </thead>\n",
       "  <tbody>\n",
       "    <tr>\n",
       "      <th>0</th>\n",
       "      <td>0</td>\n",
       "      <td>1</td>\n",
       "      <td>240</td>\n",
       "      <td>3</td>\n",
       "      <td>3</td>\n",
       "      <td>4</td>\n",
       "      <td>-</td>\n",
       "      <td>acept</td>\n",
       "      <td>furnished</td>\n",
       "      <td>R$0</td>\n",
       "      <td>R$8,000</td>\n",
       "      <td>R$1,000</td>\n",
       "      <td>R$121</td>\n",
       "      <td>R$9,121</td>\n",
       "    </tr>\n",
       "    <tr>\n",
       "      <th>1</th>\n",
       "      <td>1</td>\n",
       "      <td>0</td>\n",
       "      <td>64</td>\n",
       "      <td>2</td>\n",
       "      <td>1</td>\n",
       "      <td>1</td>\n",
       "      <td>10</td>\n",
       "      <td>acept</td>\n",
       "      <td>not furnished</td>\n",
       "      <td>R$540</td>\n",
       "      <td>R$820</td>\n",
       "      <td>R$122</td>\n",
       "      <td>R$11</td>\n",
       "      <td>R$1,493</td>\n",
       "    </tr>\n",
       "    <tr>\n",
       "      <th>2</th>\n",
       "      <td>2</td>\n",
       "      <td>1</td>\n",
       "      <td>443</td>\n",
       "      <td>5</td>\n",
       "      <td>5</td>\n",
       "      <td>4</td>\n",
       "      <td>3</td>\n",
       "      <td>acept</td>\n",
       "      <td>furnished</td>\n",
       "      <td>R$4,172</td>\n",
       "      <td>R$7,000</td>\n",
       "      <td>R$1,417</td>\n",
       "      <td>R$89</td>\n",
       "      <td>R$12,680</td>\n",
       "    </tr>\n",
       "    <tr>\n",
       "      <th>3</th>\n",
       "      <td>3</td>\n",
       "      <td>1</td>\n",
       "      <td>73</td>\n",
       "      <td>2</td>\n",
       "      <td>2</td>\n",
       "      <td>1</td>\n",
       "      <td>12</td>\n",
       "      <td>acept</td>\n",
       "      <td>not furnished</td>\n",
       "      <td>R$700</td>\n",
       "      <td>R$1,250</td>\n",
       "      <td>R$150</td>\n",
       "      <td>R$16</td>\n",
       "      <td>R$2,116</td>\n",
       "    </tr>\n",
       "    <tr>\n",
       "      <th>4</th>\n",
       "      <td>4</td>\n",
       "      <td>1</td>\n",
       "      <td>19</td>\n",
       "      <td>1</td>\n",
       "      <td>1</td>\n",
       "      <td>0</td>\n",
       "      <td>-</td>\n",
       "      <td>not acept</td>\n",
       "      <td>not furnished</td>\n",
       "      <td>R$0</td>\n",
       "      <td>R$1,200</td>\n",
       "      <td>R$41</td>\n",
       "      <td>R$16</td>\n",
       "      <td>R$1,257</td>\n",
       "    </tr>\n",
       "  </tbody>\n",
       "</table>\n",
       "</div>"
      ],
      "text/plain": [
       "   Unnamed: 0  city  area  rooms  bathroom  parking spaces floor     animal  \\\n",
       "0           0     1   240      3         3               4     -      acept   \n",
       "1           1     0    64      2         1               1    10      acept   \n",
       "2           2     1   443      5         5               4     3      acept   \n",
       "3           3     1    73      2         2               1    12      acept   \n",
       "4           4     1    19      1         1               0     -  not acept   \n",
       "\n",
       "       furniture      hoa rent amount property tax fire insurance     total  \n",
       "0      furnished      R$0     R$8,000      R$1,000          R$121   R$9,121  \n",
       "1  not furnished    R$540       R$820        R$122           R$11   R$1,493  \n",
       "2      furnished  R$4,172     R$7,000      R$1,417           R$89  R$12,680  \n",
       "3  not furnished    R$700     R$1,250        R$150           R$16   R$2,116  \n",
       "4  not furnished      R$0     R$1,200         R$41           R$16   R$1,257  "
      ]
     },
     "execution_count": 7,
     "metadata": {},
     "output_type": "execute_result"
    }
   ],
   "source": [
    "df.head()"
   ]
  },
  {
   "cell_type": "code",
   "execution_count": 8,
   "id": "5c902b13",
   "metadata": {},
   "outputs": [
    {
     "data": {
      "text/html": [
       "<div>\n",
       "<style scoped>\n",
       "    .dataframe tbody tr th:only-of-type {\n",
       "        vertical-align: middle;\n",
       "    }\n",
       "\n",
       "    .dataframe tbody tr th {\n",
       "        vertical-align: top;\n",
       "    }\n",
       "\n",
       "    .dataframe thead th {\n",
       "        text-align: right;\n",
       "    }\n",
       "</style>\n",
       "<table border=\"1\" class=\"dataframe\">\n",
       "  <thead>\n",
       "    <tr style=\"text-align: right;\">\n",
       "      <th></th>\n",
       "      <th>Unnamed: 0</th>\n",
       "      <th>city</th>\n",
       "      <th>area</th>\n",
       "      <th>rooms</th>\n",
       "      <th>bathroom</th>\n",
       "      <th>parking spaces</th>\n",
       "    </tr>\n",
       "  </thead>\n",
       "  <tbody>\n",
       "    <tr>\n",
       "      <th>count</th>\n",
       "      <td>6080.00000</td>\n",
       "      <td>6080.000000</td>\n",
       "      <td>6080.000000</td>\n",
       "      <td>6080.000000</td>\n",
       "      <td>6080.000000</td>\n",
       "      <td>6080.000000</td>\n",
       "    </tr>\n",
       "    <tr>\n",
       "      <th>mean</th>\n",
       "      <td>3039.50000</td>\n",
       "      <td>0.863322</td>\n",
       "      <td>151.143914</td>\n",
       "      <td>2.492599</td>\n",
       "      <td>2.341612</td>\n",
       "      <td>1.756250</td>\n",
       "    </tr>\n",
       "    <tr>\n",
       "      <th>std</th>\n",
       "      <td>1755.28915</td>\n",
       "      <td>0.343535</td>\n",
       "      <td>375.559485</td>\n",
       "      <td>1.129665</td>\n",
       "      <td>1.438860</td>\n",
       "      <td>1.611909</td>\n",
       "    </tr>\n",
       "    <tr>\n",
       "      <th>min</th>\n",
       "      <td>0.00000</td>\n",
       "      <td>0.000000</td>\n",
       "      <td>10.000000</td>\n",
       "      <td>1.000000</td>\n",
       "      <td>1.000000</td>\n",
       "      <td>0.000000</td>\n",
       "    </tr>\n",
       "    <tr>\n",
       "      <th>25%</th>\n",
       "      <td>1519.75000</td>\n",
       "      <td>1.000000</td>\n",
       "      <td>58.000000</td>\n",
       "      <td>2.000000</td>\n",
       "      <td>1.000000</td>\n",
       "      <td>1.000000</td>\n",
       "    </tr>\n",
       "    <tr>\n",
       "      <th>50%</th>\n",
       "      <td>3039.50000</td>\n",
       "      <td>1.000000</td>\n",
       "      <td>100.000000</td>\n",
       "      <td>3.000000</td>\n",
       "      <td>2.000000</td>\n",
       "      <td>1.000000</td>\n",
       "    </tr>\n",
       "    <tr>\n",
       "      <th>75%</th>\n",
       "      <td>4559.25000</td>\n",
       "      <td>1.000000</td>\n",
       "      <td>200.000000</td>\n",
       "      <td>3.000000</td>\n",
       "      <td>3.000000</td>\n",
       "      <td>2.000000</td>\n",
       "    </tr>\n",
       "    <tr>\n",
       "      <th>max</th>\n",
       "      <td>6079.00000</td>\n",
       "      <td>1.000000</td>\n",
       "      <td>24606.000000</td>\n",
       "      <td>10.000000</td>\n",
       "      <td>10.000000</td>\n",
       "      <td>12.000000</td>\n",
       "    </tr>\n",
       "  </tbody>\n",
       "</table>\n",
       "</div>"
      ],
      "text/plain": [
       "       Unnamed: 0         city          area        rooms     bathroom  \\\n",
       "count  6080.00000  6080.000000   6080.000000  6080.000000  6080.000000   \n",
       "mean   3039.50000     0.863322    151.143914     2.492599     2.341612   \n",
       "std    1755.28915     0.343535    375.559485     1.129665     1.438860   \n",
       "min       0.00000     0.000000     10.000000     1.000000     1.000000   \n",
       "25%    1519.75000     1.000000     58.000000     2.000000     1.000000   \n",
       "50%    3039.50000     1.000000    100.000000     3.000000     2.000000   \n",
       "75%    4559.25000     1.000000    200.000000     3.000000     3.000000   \n",
       "max    6079.00000     1.000000  24606.000000    10.000000    10.000000   \n",
       "\n",
       "       parking spaces  \n",
       "count     6080.000000  \n",
       "mean         1.756250  \n",
       "std          1.611909  \n",
       "min          0.000000  \n",
       "25%          1.000000  \n",
       "50%          1.000000  \n",
       "75%          2.000000  \n",
       "max         12.000000  "
      ]
     },
     "execution_count": 8,
     "metadata": {},
     "output_type": "execute_result"
    }
   ],
   "source": [
    "df.describe()"
   ]
  },
  {
   "cell_type": "code",
   "execution_count": 9,
   "id": "c5a30ce1",
   "metadata": {},
   "outputs": [],
   "source": [
    "df['floor'].replace(to_replace='-', value=0, inplace=True)"
   ]
  },
  {
   "cell_type": "code",
   "execution_count": 10,
   "id": "ad66a6ba",
   "metadata": {},
   "outputs": [],
   "source": [
    "df.drop('Unnamed: 0',axis=1,inplace=True)"
   ]
  },
  {
   "cell_type": "code",
   "execution_count": 11,
   "id": "d04c9334",
   "metadata": {},
   "outputs": [],
   "source": [
    "df['animal'].replace('acept', 0, inplace = True)\n",
    "df['animal'].replace('not acept', 1, inplace = True)\n",
    "df['furniture'].replace('furnished', 0, inplace = True)\n",
    "df['furniture'].replace('not furnished', 1, inplace = True)"
   ]
  },
  {
   "cell_type": "code",
   "execution_count": 12,
   "id": "65086238",
   "metadata": {},
   "outputs": [
    {
     "data": {
      "text/html": [
       "<div>\n",
       "<style scoped>\n",
       "    .dataframe tbody tr th:only-of-type {\n",
       "        vertical-align: middle;\n",
       "    }\n",
       "\n",
       "    .dataframe tbody tr th {\n",
       "        vertical-align: top;\n",
       "    }\n",
       "\n",
       "    .dataframe thead th {\n",
       "        text-align: right;\n",
       "    }\n",
       "</style>\n",
       "<table border=\"1\" class=\"dataframe\">\n",
       "  <thead>\n",
       "    <tr style=\"text-align: right;\">\n",
       "      <th></th>\n",
       "      <th>city</th>\n",
       "      <th>area</th>\n",
       "      <th>rooms</th>\n",
       "      <th>bathroom</th>\n",
       "      <th>parking spaces</th>\n",
       "      <th>floor</th>\n",
       "      <th>animal</th>\n",
       "      <th>furniture</th>\n",
       "      <th>hoa</th>\n",
       "      <th>rent amount</th>\n",
       "      <th>property tax</th>\n",
       "      <th>fire insurance</th>\n",
       "      <th>total</th>\n",
       "    </tr>\n",
       "  </thead>\n",
       "  <tbody>\n",
       "    <tr>\n",
       "      <th>0</th>\n",
       "      <td>1</td>\n",
       "      <td>240</td>\n",
       "      <td>3</td>\n",
       "      <td>3</td>\n",
       "      <td>4</td>\n",
       "      <td>0</td>\n",
       "      <td>0</td>\n",
       "      <td>0</td>\n",
       "      <td>R$0</td>\n",
       "      <td>R$8,000</td>\n",
       "      <td>R$1,000</td>\n",
       "      <td>R$121</td>\n",
       "      <td>R$9,121</td>\n",
       "    </tr>\n",
       "    <tr>\n",
       "      <th>1</th>\n",
       "      <td>0</td>\n",
       "      <td>64</td>\n",
       "      <td>2</td>\n",
       "      <td>1</td>\n",
       "      <td>1</td>\n",
       "      <td>10</td>\n",
       "      <td>0</td>\n",
       "      <td>1</td>\n",
       "      <td>R$540</td>\n",
       "      <td>R$820</td>\n",
       "      <td>R$122</td>\n",
       "      <td>R$11</td>\n",
       "      <td>R$1,493</td>\n",
       "    </tr>\n",
       "    <tr>\n",
       "      <th>2</th>\n",
       "      <td>1</td>\n",
       "      <td>443</td>\n",
       "      <td>5</td>\n",
       "      <td>5</td>\n",
       "      <td>4</td>\n",
       "      <td>3</td>\n",
       "      <td>0</td>\n",
       "      <td>0</td>\n",
       "      <td>R$4,172</td>\n",
       "      <td>R$7,000</td>\n",
       "      <td>R$1,417</td>\n",
       "      <td>R$89</td>\n",
       "      <td>R$12,680</td>\n",
       "    </tr>\n",
       "    <tr>\n",
       "      <th>3</th>\n",
       "      <td>1</td>\n",
       "      <td>73</td>\n",
       "      <td>2</td>\n",
       "      <td>2</td>\n",
       "      <td>1</td>\n",
       "      <td>12</td>\n",
       "      <td>0</td>\n",
       "      <td>1</td>\n",
       "      <td>R$700</td>\n",
       "      <td>R$1,250</td>\n",
       "      <td>R$150</td>\n",
       "      <td>R$16</td>\n",
       "      <td>R$2,116</td>\n",
       "    </tr>\n",
       "    <tr>\n",
       "      <th>4</th>\n",
       "      <td>1</td>\n",
       "      <td>19</td>\n",
       "      <td>1</td>\n",
       "      <td>1</td>\n",
       "      <td>0</td>\n",
       "      <td>0</td>\n",
       "      <td>1</td>\n",
       "      <td>1</td>\n",
       "      <td>R$0</td>\n",
       "      <td>R$1,200</td>\n",
       "      <td>R$41</td>\n",
       "      <td>R$16</td>\n",
       "      <td>R$1,257</td>\n",
       "    </tr>\n",
       "  </tbody>\n",
       "</table>\n",
       "</div>"
      ],
      "text/plain": [
       "   city  area  rooms  bathroom  parking spaces floor  animal  furniture  \\\n",
       "0     1   240      3         3               4     0       0          0   \n",
       "1     0    64      2         1               1    10       0          1   \n",
       "2     1   443      5         5               4     3       0          0   \n",
       "3     1    73      2         2               1    12       0          1   \n",
       "4     1    19      1         1               0     0       1          1   \n",
       "\n",
       "       hoa rent amount property tax fire insurance     total  \n",
       "0      R$0     R$8,000      R$1,000          R$121   R$9,121  \n",
       "1    R$540       R$820        R$122           R$11   R$1,493  \n",
       "2  R$4,172     R$7,000      R$1,417           R$89  R$12,680  \n",
       "3    R$700     R$1,250        R$150           R$16   R$2,116  \n",
       "4      R$0     R$1,200         R$41           R$16   R$1,257  "
      ]
     },
     "execution_count": 12,
     "metadata": {},
     "output_type": "execute_result"
    }
   ],
   "source": [
    "df.head()"
   ]
  },
  {
   "cell_type": "code",
   "execution_count": 13,
   "id": "2132804d",
   "metadata": {},
   "outputs": [
    {
     "data": {
      "text/html": [
       "<div>\n",
       "<style scoped>\n",
       "    .dataframe tbody tr th:only-of-type {\n",
       "        vertical-align: middle;\n",
       "    }\n",
       "\n",
       "    .dataframe tbody tr th {\n",
       "        vertical-align: top;\n",
       "    }\n",
       "\n",
       "    .dataframe thead th {\n",
       "        text-align: right;\n",
       "    }\n",
       "</style>\n",
       "<table border=\"1\" class=\"dataframe\">\n",
       "  <thead>\n",
       "    <tr style=\"text-align: right;\">\n",
       "      <th></th>\n",
       "      <th>city</th>\n",
       "      <th>area</th>\n",
       "      <th>rooms</th>\n",
       "      <th>bathroom</th>\n",
       "      <th>parking spaces</th>\n",
       "      <th>animal</th>\n",
       "      <th>furniture</th>\n",
       "    </tr>\n",
       "  </thead>\n",
       "  <tbody>\n",
       "    <tr>\n",
       "      <th>count</th>\n",
       "      <td>6080.000000</td>\n",
       "      <td>6080.000000</td>\n",
       "      <td>6080.000000</td>\n",
       "      <td>6080.000000</td>\n",
       "      <td>6080.000000</td>\n",
       "      <td>6080.000000</td>\n",
       "      <td>6080.000000</td>\n",
       "    </tr>\n",
       "    <tr>\n",
       "      <th>mean</th>\n",
       "      <td>0.863322</td>\n",
       "      <td>151.143914</td>\n",
       "      <td>2.492599</td>\n",
       "      <td>2.341612</td>\n",
       "      <td>1.756250</td>\n",
       "      <td>0.232566</td>\n",
       "      <td>0.739803</td>\n",
       "    </tr>\n",
       "    <tr>\n",
       "      <th>std</th>\n",
       "      <td>0.343535</td>\n",
       "      <td>375.559485</td>\n",
       "      <td>1.129665</td>\n",
       "      <td>1.438860</td>\n",
       "      <td>1.611909</td>\n",
       "      <td>0.422502</td>\n",
       "      <td>0.438778</td>\n",
       "    </tr>\n",
       "    <tr>\n",
       "      <th>min</th>\n",
       "      <td>0.000000</td>\n",
       "      <td>10.000000</td>\n",
       "      <td>1.000000</td>\n",
       "      <td>1.000000</td>\n",
       "      <td>0.000000</td>\n",
       "      <td>0.000000</td>\n",
       "      <td>0.000000</td>\n",
       "    </tr>\n",
       "    <tr>\n",
       "      <th>25%</th>\n",
       "      <td>1.000000</td>\n",
       "      <td>58.000000</td>\n",
       "      <td>2.000000</td>\n",
       "      <td>1.000000</td>\n",
       "      <td>1.000000</td>\n",
       "      <td>0.000000</td>\n",
       "      <td>0.000000</td>\n",
       "    </tr>\n",
       "    <tr>\n",
       "      <th>50%</th>\n",
       "      <td>1.000000</td>\n",
       "      <td>100.000000</td>\n",
       "      <td>3.000000</td>\n",
       "      <td>2.000000</td>\n",
       "      <td>1.000000</td>\n",
       "      <td>0.000000</td>\n",
       "      <td>1.000000</td>\n",
       "    </tr>\n",
       "    <tr>\n",
       "      <th>75%</th>\n",
       "      <td>1.000000</td>\n",
       "      <td>200.000000</td>\n",
       "      <td>3.000000</td>\n",
       "      <td>3.000000</td>\n",
       "      <td>2.000000</td>\n",
       "      <td>0.000000</td>\n",
       "      <td>1.000000</td>\n",
       "    </tr>\n",
       "    <tr>\n",
       "      <th>max</th>\n",
       "      <td>1.000000</td>\n",
       "      <td>24606.000000</td>\n",
       "      <td>10.000000</td>\n",
       "      <td>10.000000</td>\n",
       "      <td>12.000000</td>\n",
       "      <td>1.000000</td>\n",
       "      <td>1.000000</td>\n",
       "    </tr>\n",
       "  </tbody>\n",
       "</table>\n",
       "</div>"
      ],
      "text/plain": [
       "              city          area        rooms     bathroom  parking spaces  \\\n",
       "count  6080.000000   6080.000000  6080.000000  6080.000000     6080.000000   \n",
       "mean      0.863322    151.143914     2.492599     2.341612        1.756250   \n",
       "std       0.343535    375.559485     1.129665     1.438860        1.611909   \n",
       "min       0.000000     10.000000     1.000000     1.000000        0.000000   \n",
       "25%       1.000000     58.000000     2.000000     1.000000        1.000000   \n",
       "50%       1.000000    100.000000     3.000000     2.000000        1.000000   \n",
       "75%       1.000000    200.000000     3.000000     3.000000        2.000000   \n",
       "max       1.000000  24606.000000    10.000000    10.000000       12.000000   \n",
       "\n",
       "            animal    furniture  \n",
       "count  6080.000000  6080.000000  \n",
       "mean      0.232566     0.739803  \n",
       "std       0.422502     0.438778  \n",
       "min       0.000000     0.000000  \n",
       "25%       0.000000     0.000000  \n",
       "50%       0.000000     1.000000  \n",
       "75%       0.000000     1.000000  \n",
       "max       1.000000     1.000000  "
      ]
     },
     "execution_count": 13,
     "metadata": {},
     "output_type": "execute_result"
    }
   ],
   "source": [
    "df.describe()"
   ]
  },
  {
   "cell_type": "code",
   "execution_count": 14,
   "id": "d801a9f1",
   "metadata": {},
   "outputs": [],
   "source": [
    "money_columns = ['hoa', 'rent amount', 'property tax', 'fire insurance', 'total']\n"
   ]
  },
  {
   "cell_type": "code",
   "execution_count": 15,
   "id": "4268941b",
   "metadata": {
    "scrolled": true
   },
   "outputs": [],
   "source": [
    "df[money_columns] = df[money_columns].replace({'R\\$': '', ',': ''}, regex=True)\n"
   ]
  },
  {
   "cell_type": "code",
   "execution_count": 16,
   "id": "23ec7db9",
   "metadata": {},
   "outputs": [],
   "source": [
    "df.replace(['Sem info', 'Incluso'], np.nan, inplace=True)"
   ]
  },
  {
   "cell_type": "code",
   "execution_count": 17,
   "id": "b005286a",
   "metadata": {
    "scrolled": true
   },
   "outputs": [],
   "source": [
    "df[money_columns] = df[money_columns].astype(float)"
   ]
  },
  {
   "cell_type": "code",
   "execution_count": 18,
   "id": "f3f9975b",
   "metadata": {},
   "outputs": [],
   "source": [
    "df.dropna(inplace=True)"
   ]
  },
  {
   "cell_type": "code",
   "execution_count": 19,
   "id": "7376b945",
   "metadata": {},
   "outputs": [],
   "source": [
    "df.drop_duplicates(inplace=True)"
   ]
  },
  {
   "cell_type": "code",
   "execution_count": 20,
   "id": "9bcaf2b6",
   "metadata": {
    "scrolled": true
   },
   "outputs": [
    {
     "data": {
      "text/html": [
       "<div>\n",
       "<style scoped>\n",
       "    .dataframe tbody tr th:only-of-type {\n",
       "        vertical-align: middle;\n",
       "    }\n",
       "\n",
       "    .dataframe tbody tr th {\n",
       "        vertical-align: top;\n",
       "    }\n",
       "\n",
       "    .dataframe thead th {\n",
       "        text-align: right;\n",
       "    }\n",
       "</style>\n",
       "<table border=\"1\" class=\"dataframe\">\n",
       "  <thead>\n",
       "    <tr style=\"text-align: right;\">\n",
       "      <th></th>\n",
       "      <th>city</th>\n",
       "      <th>area</th>\n",
       "      <th>rooms</th>\n",
       "      <th>bathroom</th>\n",
       "      <th>parking spaces</th>\n",
       "      <th>floor</th>\n",
       "      <th>animal</th>\n",
       "      <th>furniture</th>\n",
       "      <th>hoa</th>\n",
       "      <th>rent amount</th>\n",
       "      <th>property tax</th>\n",
       "      <th>fire insurance</th>\n",
       "      <th>total</th>\n",
       "    </tr>\n",
       "  </thead>\n",
       "  <tbody>\n",
       "    <tr>\n",
       "      <th>0</th>\n",
       "      <td>1</td>\n",
       "      <td>240</td>\n",
       "      <td>3</td>\n",
       "      <td>3</td>\n",
       "      <td>4</td>\n",
       "      <td>0</td>\n",
       "      <td>0</td>\n",
       "      <td>0</td>\n",
       "      <td>0.0</td>\n",
       "      <td>8000.0</td>\n",
       "      <td>1000.0</td>\n",
       "      <td>121.0</td>\n",
       "      <td>9121.0</td>\n",
       "    </tr>\n",
       "    <tr>\n",
       "      <th>1</th>\n",
       "      <td>0</td>\n",
       "      <td>64</td>\n",
       "      <td>2</td>\n",
       "      <td>1</td>\n",
       "      <td>1</td>\n",
       "      <td>10</td>\n",
       "      <td>0</td>\n",
       "      <td>1</td>\n",
       "      <td>540.0</td>\n",
       "      <td>820.0</td>\n",
       "      <td>122.0</td>\n",
       "      <td>11.0</td>\n",
       "      <td>1493.0</td>\n",
       "    </tr>\n",
       "    <tr>\n",
       "      <th>2</th>\n",
       "      <td>1</td>\n",
       "      <td>443</td>\n",
       "      <td>5</td>\n",
       "      <td>5</td>\n",
       "      <td>4</td>\n",
       "      <td>3</td>\n",
       "      <td>0</td>\n",
       "      <td>0</td>\n",
       "      <td>4172.0</td>\n",
       "      <td>7000.0</td>\n",
       "      <td>1417.0</td>\n",
       "      <td>89.0</td>\n",
       "      <td>12680.0</td>\n",
       "    </tr>\n",
       "    <tr>\n",
       "      <th>3</th>\n",
       "      <td>1</td>\n",
       "      <td>73</td>\n",
       "      <td>2</td>\n",
       "      <td>2</td>\n",
       "      <td>1</td>\n",
       "      <td>12</td>\n",
       "      <td>0</td>\n",
       "      <td>1</td>\n",
       "      <td>700.0</td>\n",
       "      <td>1250.0</td>\n",
       "      <td>150.0</td>\n",
       "      <td>16.0</td>\n",
       "      <td>2116.0</td>\n",
       "    </tr>\n",
       "    <tr>\n",
       "      <th>4</th>\n",
       "      <td>1</td>\n",
       "      <td>19</td>\n",
       "      <td>1</td>\n",
       "      <td>1</td>\n",
       "      <td>0</td>\n",
       "      <td>0</td>\n",
       "      <td>1</td>\n",
       "      <td>1</td>\n",
       "      <td>0.0</td>\n",
       "      <td>1200.0</td>\n",
       "      <td>41.0</td>\n",
       "      <td>16.0</td>\n",
       "      <td>1257.0</td>\n",
       "    </tr>\n",
       "  </tbody>\n",
       "</table>\n",
       "</div>"
      ],
      "text/plain": [
       "   city  area  rooms  bathroom  parking spaces floor  animal  furniture  \\\n",
       "0     1   240      3         3               4     0       0          0   \n",
       "1     0    64      2         1               1    10       0          1   \n",
       "2     1   443      5         5               4     3       0          0   \n",
       "3     1    73      2         2               1    12       0          1   \n",
       "4     1    19      1         1               0     0       1          1   \n",
       "\n",
       "      hoa  rent amount  property tax  fire insurance    total  \n",
       "0     0.0       8000.0        1000.0           121.0   9121.0  \n",
       "1   540.0        820.0         122.0            11.0   1493.0  \n",
       "2  4172.0       7000.0        1417.0            89.0  12680.0  \n",
       "3   700.0       1250.0         150.0            16.0   2116.0  \n",
       "4     0.0       1200.0          41.0            16.0   1257.0  "
      ]
     },
     "execution_count": 20,
     "metadata": {},
     "output_type": "execute_result"
    }
   ],
   "source": [
    "df.head()"
   ]
  },
  {
   "cell_type": "code",
   "execution_count": 21,
   "id": "5bebe523",
   "metadata": {},
   "outputs": [],
   "source": [
    "X = df[['furniture','area','hoa', 'property tax', 'fire insurance', 'total', 'area', 'rooms', 'bathroom', 'animal']]"
   ]
  },
  {
   "cell_type": "code",
   "execution_count": 22,
   "id": "a9b07197",
   "metadata": {},
   "outputs": [],
   "source": [
    "y = df['rent amount']"
   ]
  },
  {
   "cell_type": "code",
   "execution_count": 23,
   "id": "d9250a73",
   "metadata": {},
   "outputs": [
    {
     "data": {
      "text/plain": [
       "((5660, 10), (5660,))"
      ]
     },
     "execution_count": 23,
     "metadata": {},
     "output_type": "execute_result"
    }
   ],
   "source": [
    "\n",
    "X.shape, y.shape"
   ]
  },
  {
   "cell_type": "code",
   "execution_count": 24,
   "id": "a193c97e",
   "metadata": {
    "scrolled": true
   },
   "outputs": [
    {
     "name": "stdout",
     "output_type": "stream",
     "text": [
      "      furniture  area     hoa  property tax  fire insurance    total  area  \\\n",
      "0             0   240     0.0        1000.0           121.0   9121.0   240   \n",
      "1             1    64   540.0         122.0            11.0   1493.0    64   \n",
      "2             0   443  4172.0        1417.0            89.0  12680.0   443   \n",
      "3             1    73   700.0         150.0            16.0   2116.0    73   \n",
      "4             1    19     0.0          41.0            16.0   1257.0    19   \n",
      "...         ...   ...     ...           ...             ...      ...   ...   \n",
      "6075          1    50   420.0           0.0            15.0   1585.0    50   \n",
      "6076          0    84   768.0          63.0            37.0   3768.0    84   \n",
      "6077          1    48   250.0          42.0            13.0   1255.0    48   \n",
      "6078          1   160     0.0         250.0            53.0   3803.0   160   \n",
      "6079          0    60   489.0           0.0            25.0   2414.0    60   \n",
      "\n",
      "      rooms  bathroom  animal  \n",
      "0         3         3       0  \n",
      "1         2         1       0  \n",
      "2         5         5       0  \n",
      "3         2         2       0  \n",
      "4         1         1       1  \n",
      "...     ...       ...     ...  \n",
      "6075      2         1       0  \n",
      "6076      2         2       1  \n",
      "6077      1         1       0  \n",
      "6078      3         2       1  \n",
      "6079      2         1       0  \n",
      "\n",
      "[5660 rows x 10 columns] 0       8000.0\n",
      "1        820.0\n",
      "2       7000.0\n",
      "3       1250.0\n",
      "4       1200.0\n",
      "         ...  \n",
      "6075    1150.0\n",
      "6076    2900.0\n",
      "6077     950.0\n",
      "6078    3500.0\n",
      "6079    1900.0\n",
      "Name: rent amount, Length: 5660, dtype: float64\n"
     ]
    }
   ],
   "source": [
    "print(X, y)"
   ]
  },
  {
   "cell_type": "code",
   "execution_count": 25,
   "id": "1cf26e31",
   "metadata": {},
   "outputs": [],
   "source": [
    "X_train, X_test, y_train, y_test = train_test_split(X, y, test_size=0.2, random_state=42)\n"
   ]
  },
  {
   "cell_type": "code",
   "execution_count": 26,
   "id": "d6de8508",
   "metadata": {},
   "outputs": [
    {
     "name": "stdout",
     "output_type": "stream",
     "text": [
      "Total number of rows and columns for the complete dataset:  (5660, 10) (5660,)\n",
      "Number of rows and columns after splitting dataset:  (4528, 10) (1132, 10) (4528,) (1132,)\n"
     ]
    }
   ],
   "source": [
    "# Display the rows and columns (dimenions) of an unsplitted dataset\n",
    "print('Total number of rows and columns for the complete dataset: ', X.shape, y.shape)\n",
    "\n",
    "# Display the rows and columns (dimenions) of the splitted dataset\n",
    "print('Number of rows and columns after splitting dataset: ', X_train.shape, X_test.shape, y_train.shape, y_test.shape )"
   ]
  },
  {
   "cell_type": "code",
   "execution_count": 27,
   "id": "8c8fbd99",
   "metadata": {},
   "outputs": [],
   "source": [
    "# Import the library for the model named as 'SVM'\n",
    "from sklearn import svm\n",
    "\n",
    "# Create a classifier\n",
    "cls_svm = svm.SVC(kernel = \"linear\")    # Press shift + tab key simultaneoulsy to get the help for the function or method SVC\n",
    "\n",
    "# Train the model\n",
    "cls_svm.fit(X_train, y_train)\n",
    "\n",
    "# Predict the response\n",
    "y_pred = cls_svm.predict(X_test)"
   ]
  },
  {
   "cell_type": "code",
   "execution_count": 29,
   "id": "d39fa316",
   "metadata": {},
   "outputs": [
    {
     "name": "stdout",
     "output_type": "stream",
     "text": [
      "accuracy: 0.6651943462897526\n",
      "accuracy: 0.67\n"
     ]
    }
   ],
   "source": [
    "# Import the library for accuracy, precision and recall\n",
    "from sklearn import metrics\n",
    "\n",
    "# accuracy\n",
    "print(\"accuracy:\", metrics.accuracy_score(y_test, y_pred))\n",
    "\n",
    "# Display upto 2 decimal places\n",
    "print( \"accuracy: {:.2f}\".format(metrics.accuracy_score(y_test, y_pred)) )\n"
   ]
  },
  {
   "cell_type": "code",
   "execution_count": 69,
   "id": "f9ecb8fb",
   "metadata": {},
   "outputs": [],
   "source": [
    "# Import knearest neighbors Classifier model\n",
    "from sklearn.neighbors import KNeighborsClassifier\n",
    "\n",
    "# Create KNN Classifier\n",
    "kNN = KNeighborsClassifier(n_neighbors = 3)\n",
    "\n",
    "# Train the model using the training sets\n",
    "kNN.fit(X_train, y_train)\n",
    "\n",
    "# Predict the response for test dataset\n",
    "y_pred = kNN.predict(X_test)"
   ]
  },
  {
   "cell_type": "code",
   "execution_count": 70,
   "id": "de9a411d",
   "metadata": {
    "scrolled": true
   },
   "outputs": [
    {
     "data": {
      "text/plain": [
       "<Axes: >"
      ]
     },
     "execution_count": 70,
     "metadata": {},
     "output_type": "execute_result"
    },
    {
     "data": {
      "image/png": "[encoded data removed]",
      "text/plain": [
       "<Figure size 640x480 with 2 Axes>"
      ]
     },
     "metadata": {},
     "output_type": "display_data"
    }
   ],
   "source": [
    "from sklearn.metrics import confusion_matrix\n",
    "import seaborn as sns\n",
    "\n",
    "# Call a method predict by using an object classifier 'cls_svm'\n",
    "y_predict = kNN.predict(X_test)\n",
    "\n",
    "# Calculate cm by calling a method named as 'confusion_matrix'\n",
    "cm = confusion_matrix(y_test, y_predict)\n",
    "\n",
    "# Call a method heatmap() to plot confusion matrix\n",
    "sns.heatmap(cm, annot = True)"
   ]
  },
  {
   "cell_type": "code",
   "execution_count": 71,
   "id": "022ae205",
   "metadata": {},
   "outputs": [
    {
     "name": "stdout",
     "output_type": "stream",
     "text": [
      "              precision    recall  f1-score   support\n",
      "\n",
      "       450.0       0.00      0.00      0.00         1\n",
      "       500.0       0.60      0.75      0.67         4\n",
      "       520.0       0.00      0.00      0.00         0\n",
      "       530.0       0.00      0.00      0.00         1\n",
      "       550.0       0.00      0.00      0.00         1\n",
      "       580.0       0.00      0.00      0.00         1\n",
      "       595.0       0.00      0.00      0.00         0\n",
      "       650.0       0.33      0.50      0.40         2\n",
      "       655.0       0.00      0.00      0.00         0\n",
      "       680.0       0.00      0.00      0.00         2\n",
      "       700.0       0.60      0.50      0.55         6\n",
      "       702.0       0.00      0.00      0.00         0\n",
      "       706.0       0.00      0.00      0.00         1\n",
      "       720.0       0.00      0.00      0.00         2\n",
      "       730.0       0.00      0.00      0.00         0\n",
      "       742.0       0.00      0.00      0.00         1\n",
      "       750.0       0.40      0.67      0.50         3\n",
      "       755.0       0.00      0.00      0.00         1\n",
      "       780.0       0.00      0.00      0.00         0\n",
      "       800.0       0.00      0.00      0.00         1\n",
      "       810.0       0.00      0.00      0.00         1\n",
      "       820.0       0.00      0.00      0.00         0\n",
      "       830.0       0.00      0.00      0.00         1\n",
      "       842.0       0.00      0.00      0.00         1\n",
      "       846.0       0.00      0.00      0.00         1\n",
      "       850.0       0.33      0.40      0.36         5\n",
      "       860.0       0.00      0.00      0.00         0\n",
      "       870.0       0.00      0.00      0.00         2\n",
      "       880.0       0.00      0.00      0.00         1\n",
      "       885.0       0.00      0.00      0.00         0\n",
      "       892.0       0.00      0.00      0.00         0\n",
      "       900.0       0.60      0.30      0.40        10\n",
      "       912.0       0.00      0.00      0.00         1\n",
      "       920.0       0.00      0.00      0.00         1\n",
      "       950.0       0.00      0.00      0.00         2\n",
      "       954.0       0.00      0.00      0.00         1\n",
      "       960.0       0.00      0.00      0.00         0\n",
      "       970.0       0.00      0.00      0.00         1\n",
      "       972.0       0.00      0.00      0.00         1\n",
      "       980.0       0.00      0.00      0.00         1\n",
      "       990.0       0.00      0.00      0.00         0\n",
      "       991.0       0.00      0.00      0.00         0\n",
      "       999.0       0.00      0.00      0.00         0\n",
      "      1000.0       0.50      0.31      0.38        13\n",
      "      1010.0       0.00      0.00      0.00         2\n",
      "      1020.0       0.00      0.00      0.00         0\n",
      "      1039.0       0.00      0.00      0.00         0\n",
      "      1040.0       0.00      0.00      0.00         1\n",
      "      1049.0       0.00      0.00      0.00         1\n",
      "      1050.0       0.00      0.00      0.00         1\n",
      "      1070.0       0.00      0.00      0.00         1\n",
      "      1077.0       0.00      0.00      0.00         1\n",
      "      1080.0       0.00      0.00      0.00         2\n",
      "      1090.0       0.00      0.00      0.00         1\n",
      "      1094.0       0.00      0.00      0.00         2\n",
      "      1100.0       0.41      0.64      0.50        11\n",
      "      1105.0       0.00      0.00      0.00         1\n",
      "      1110.0       0.00      0.00      0.00         0\n",
      "      1120.0       0.00      0.00      0.00         1\n",
      "      1130.0       0.00      0.00      0.00         1\n",
      "      1137.0       0.00      0.00      0.00         1\n",
      "      1138.0       0.00      0.00      0.00         1\n",
      "      1140.0       0.00      0.00      0.00         1\n",
      "      1148.0       0.00      0.00      0.00         1\n",
      "      1150.0       0.00      0.00      0.00         1\n",
      "      1170.0       0.00      0.00      0.00         1\n",
      "      1173.0       0.00      0.00      0.00         1\n",
      "      1180.0       0.00      0.00      0.00         0\n",
      "      1181.0       0.00      0.00      0.00         1\n",
      "      1190.0       0.00      0.00      0.00         0\n",
      "      1191.0       0.00      0.00      0.00         1\n",
      "      1196.0       0.00      0.00      0.00         1\n",
      "      1200.0       0.43      0.77      0.56        13\n",
      "      1220.0       0.00      0.00      0.00         2\n",
      "      1230.0       0.00      0.00      0.00         1\n",
      "      1233.0       0.00      0.00      0.00         1\n",
      "      1250.0       0.00      0.00      0.00         3\n",
      "      1258.0       0.00      0.00      0.00         1\n",
      "      1266.0       0.00      0.00      0.00         1\n",
      "      1275.0       0.00      0.00      0.00         0\n",
      "      1299.0       0.00      0.00      0.00         1\n",
      "      1300.0       0.31      0.42      0.36        12\n",
      "      1305.0       0.00      0.00      0.00         1\n",
      "      1318.0       0.00      0.00      0.00         1\n",
      "      1328.0       0.00      0.00      0.00         1\n",
      "      1330.0       0.00      0.00      0.00         0\n",
      "      1340.0       0.00      0.00      0.00         0\n",
      "      1345.0       0.00      0.00      0.00         1\n",
      "      1350.0       0.17      0.14      0.15         7\n",
      "      1357.0       0.00      0.00      0.00         1\n",
      "      1360.0       0.00      0.00      0.00         1\n",
      "      1375.0       0.00      0.00      0.00         1\n",
      "      1380.0       0.00      0.00      0.00         2\n",
      "      1390.0       0.00      0.00      0.00         1\n",
      "      1396.0       0.00      0.00      0.00         1\n",
      "      1397.0       0.00      0.00      0.00         1\n",
      "      1400.0       0.00      0.00      0.00         6\n",
      "      1444.0       0.00      0.00      0.00         1\n",
      "      1445.0       0.00      0.00      0.00         1\n",
      "      1446.0       0.00      0.00      0.00         0\n",
      "      1447.0       0.00      0.00      0.00         0\n",
      "      1450.0       0.33      0.67      0.44         3\n",
      "      1455.0       0.00      0.00      0.00         0\n",
      "      1460.0       0.00      0.00      0.00         0\n",
      "      1480.0       0.00      0.00      0.00         1\n",
      "      1490.0       0.00      0.00      0.00         0\n",
      "      1500.0       0.48      0.69      0.56        16\n",
      "      1503.0       0.00      0.00      0.00         1\n",
      "      1511.0       0.00      0.00      0.00         0\n",
      "      1519.0       0.00      0.00      0.00         1\n",
      "      1530.0       0.00      0.00      0.00         0\n",
      "      1532.0       0.00      0.00      0.00         1\n",
      "      1540.0       0.00      0.00      0.00         1\n",
      "      1550.0       0.50      0.17      0.25         6\n",
      "      1555.0       0.00      0.00      0.00         1\n",
      "      1559.0       0.00      0.00      0.00         1\n",
      "      1560.0       0.00      0.00      0.00         0\n",
      "      1572.0       0.00      0.00      0.00         0\n",
      "      1573.0       0.00      0.00      0.00         1\n",
      "      1576.0       0.00      0.00      0.00         1\n",
      "      1580.0       0.00      0.00      0.00         1\n",
      "      1583.0       0.00      0.00      0.00         1\n",
      "      1590.0       0.00      0.00      0.00         0\n",
      "      1600.0       0.33      0.60      0.43        10\n",
      "      1613.0       0.00      0.00      0.00         1\n",
      "      1620.0       0.00      0.00      0.00         1\n",
      "      1621.0       0.00      0.00      0.00         0\n",
      "      1623.0       0.00      0.00      0.00         1\n",
      "      1625.0       0.00      0.00      0.00         0\n",
      "      1630.0       0.00      0.00      0.00         0\n",
      "      1631.0       0.00      0.00      0.00         1\n",
      "      1644.0       0.00      0.00      0.00         0\n",
      "      1649.0       0.00      0.00      0.00         1\n",
      "      1650.0       0.00      0.00      0.00         3\n",
      "      1654.0       0.00      0.00      0.00         2\n",
      "      1660.0       0.00      0.00      0.00         2\n",
      "      1670.0       0.00      0.00      0.00         0\n",
      "      1675.0       0.00      0.00      0.00         0\n",
      "      1680.0       0.00      0.00      0.00         1\n",
      "      1684.0       0.00      0.00      0.00         1\n",
      "      1694.0       0.00      0.00      0.00         1\n",
      "      1700.0       0.44      0.36      0.40        11\n",
      "      1712.0       0.00      0.00      0.00         1\n",
      "      1720.0       0.00      0.00      0.00         1\n",
      "      1725.0       0.00      0.00      0.00         0\n",
      "      1727.0       0.00      0.00      0.00         0\n",
      "      1738.0       0.00      0.00      0.00         0\n",
      "      1740.0       0.00      0.00      0.00         1\n",
      "      1750.0       0.00      0.00      0.00         4\n",
      "      1760.0       0.00      0.00      0.00         1\n",
      "      1765.0       0.00      0.00      0.00         1\n",
      "      1780.0       0.00      0.00      0.00         0\n",
      "      1790.0       0.00      0.00      0.00         2\n",
      "      1800.0       0.48      0.61      0.54        18\n",
      "      1805.0       0.00      0.00      0.00         1\n",
      "      1826.0       0.00      0.00      0.00         1\n",
      "      1840.0       0.00      0.00      0.00         1\n",
      "      1841.0       0.00      0.00      0.00         1\n",
      "      1850.0       0.12      0.25      0.17         4\n",
      "      1865.0       0.00      0.00      0.00         0\n",
      "      1880.0       0.00      0.00      0.00         2\n",
      "      1890.0       0.00      0.00      0.00         2\n",
      "      1899.0       0.00      0.00      0.00         0\n",
      "      1900.0       0.50      0.42      0.45        12\n",
      "      1935.0       0.00      0.00      0.00         1\n",
      "      1942.0       0.00      0.00      0.00         1\n",
      "      1946.0       0.00      0.00      0.00         1\n",
      "      1950.0       0.50      0.33      0.40         3\n",
      "      1960.0       0.00      0.00      0.00         0\n",
      "      1970.0       0.00      0.00      0.00         0\n",
      "      1980.0       0.00      0.00      0.00         0\n",
      "      1990.0       0.00      0.00      0.00         1\n",
      "      1994.0       0.00      0.00      0.00         1\n",
      "      1997.0       0.00      0.00      0.00         1\n",
      "      1999.0       0.00      0.00      0.00         0\n",
      "      2000.0       0.43      0.62      0.51        21\n",
      "      2004.0       0.00      0.00      0.00         0\n",
      "      2010.0       0.00      0.00      0.00         1\n",
      "      2020.0       0.00      0.00      0.00         2\n",
      "      2023.0       0.00      0.00      0.00         0\n",
      "      2024.0       0.00      0.00      0.00         1\n",
      "      2035.0       0.00      0.00      0.00         1\n",
      "      2050.0       0.00      0.00      0.00         1\n",
      "      2055.0       0.00      0.00      0.00         1\n",
      "      2060.0       0.00      0.00      0.00         1\n",
      "      2067.0       0.00      0.00      0.00         1\n",
      "      2070.0       0.00      0.00      0.00         1\n",
      "      2083.0       0.00      0.00      0.00         1\n",
      "      2093.0       0.00      0.00      0.00         0\n",
      "      2100.0       0.83      0.38      0.53        13\n",
      "      2114.0       0.00      0.00      0.00         1\n",
      "      2120.0       0.00      0.00      0.00         0\n",
      "      2125.0       0.00      0.00      0.00         0\n",
      "      2150.0       0.00      0.00      0.00         3\n",
      "      2153.0       0.00      0.00      0.00         0\n",
      "      2166.0       0.00      0.00      0.00         2\n",
      "      2167.0       0.00      0.00      0.00         1\n",
      "      2169.0       0.00      0.00      0.00         1\n",
      "      2170.0       0.00      0.00      0.00         1\n",
      "      2173.0       0.00      0.00      0.00         0\n",
      "      2174.0       0.00      0.00      0.00         0\n",
      "      2190.0       0.00      0.00      0.00         0\n",
      "      2196.0       0.00      0.00      0.00         2\n",
      "      2200.0       0.30      0.70      0.42        10\n",
      "      2210.0       0.00      0.00      0.00         1\n",
      "      2230.0       0.00      0.00      0.00         0\n",
      "      2236.0       0.00      0.00      0.00         1\n",
      "      2250.0       1.00      0.33      0.50         3\n",
      "      2270.0       0.00      0.00      0.00         1\n",
      "      2280.0       0.00      0.00      0.00         3\n",
      "      2288.0       0.00      0.00      0.00         1\n",
      "      2289.0       0.00      0.00      0.00         1\n",
      "      2290.0       0.00      0.00      0.00         0\n",
      "      2300.0       0.11      0.12      0.12         8\n",
      "      2312.0       0.00      0.00      0.00         1\n",
      "      2340.0       0.00      0.00      0.00         1\n",
      "      2341.0       0.00      0.00      0.00         1\n",
      "      2344.0       0.00      0.00      0.00         0\n",
      "      2350.0       0.00      0.00      0.00         3\n",
      "      2380.0       0.00      0.00      0.00         2\n",
      "      2400.0       0.12      0.11      0.12         9\n",
      "      2418.0       0.00      0.00      0.00         0\n",
      "      2430.0       0.00      0.00      0.00         0\n",
      "      2431.0       0.00      0.00      0.00         1\n",
      "      2433.0       0.00      0.00      0.00         0\n",
      "      2448.0       0.00      0.00      0.00         0\n",
      "      2450.0       0.00      0.00      0.00         3\n",
      "      2460.0       0.00      0.00      0.00         1\n",
      "      2467.0       0.00      0.00      0.00         1\n",
      "      2468.0       0.00      0.00      0.00         1\n",
      "      2470.0       0.00      0.00      0.00         1\n",
      "      2499.0       0.00      0.00      0.00         0\n",
      "      2500.0       0.47      0.56      0.51        32\n",
      "      2501.0       0.00      0.00      0.00         0\n",
      "      2514.0       0.00      0.00      0.00         1\n",
      "      2529.0       0.00      0.00      0.00         1\n",
      "      2530.0       0.00      0.00      0.00         1\n",
      "      2535.0       0.00      0.00      0.00         1\n",
      "      2540.0       0.00      0.00      0.00         0\n",
      "      2550.0       0.00      0.00      0.00         4\n",
      "      2576.0       0.00      0.00      0.00         1\n",
      "      2580.0       0.00      0.00      0.00         1\n",
      "      2583.0       0.00      0.00      0.00         1\n",
      "      2588.0       0.00      0.00      0.00         1\n",
      "      2600.0       0.00      0.00      0.00        12\n",
      "      2610.0       0.00      0.00      0.00         1\n",
      "      2620.0       0.00      0.00      0.00         0\n",
      "      2649.0       0.00      0.00      0.00         1\n",
      "      2660.0       0.00      0.00      0.00         1\n",
      "      2680.0       0.00      0.00      0.00         0\n",
      "      2690.0       0.00      0.00      0.00         0\n",
      "      2700.0       0.55      0.55      0.55        11\n",
      "      2713.0       0.00      0.00      0.00         1\n",
      "      2730.0       0.00      0.00      0.00         0\n",
      "      2748.0       0.00      0.00      0.00         0\n",
      "      2750.0       0.00      0.00      0.00         1\n",
      "      2790.0       0.00      0.00      0.00         0\n",
      "      2791.0       0.00      0.00      0.00         0\n",
      "      2800.0       0.38      0.32      0.34        19\n",
      "      2840.0       0.00      0.00      0.00         1\n",
      "      2848.0       0.00      0.00      0.00         1\n",
      "      2850.0       0.00      0.00      0.00         1\n",
      "      2860.0       0.00      0.00      0.00         1\n",
      "      2880.0       0.00      0.00      0.00         0\n",
      "      2896.0       0.00      0.00      0.00         1\n",
      "      2900.0       0.25      0.12      0.17         8\n",
      "      2925.0       0.00      0.00      0.00         1\n",
      "      2950.0       0.00      0.00      0.00         2\n",
      "      2960.0       0.00      0.00      0.00         2\n",
      "      2975.0       0.00      0.00      0.00         2\n",
      "      2990.0       0.00      0.00      0.00         0\n",
      "      2999.0       0.00      0.00      0.00         1\n",
      "      3000.0       0.43      0.79      0.56        19\n",
      "      3008.0       0.00      0.00      0.00         1\n",
      "      3050.0       0.00      0.00      0.00         2\n",
      "      3063.0       0.00      0.00      0.00         1\n",
      "      3072.0       0.00      0.00      0.00         1\n",
      "      3100.0       0.25      0.25      0.25         4\n",
      "      3110.0       0.00      0.00      0.00         0\n",
      "      3120.0       0.00      0.00      0.00         1\n",
      "      3130.0       0.00      0.00      0.00         0\n",
      "      3142.0       1.00      1.00      1.00         1\n",
      "      3149.0       0.00      0.00      0.00         1\n",
      "      3150.0       0.00      0.00      0.00         1\n",
      "      3166.0       0.00      0.00      0.00         0\n",
      "      3180.0       0.00      0.00      0.00         0\n",
      "      3182.0       0.00      0.00      0.00         1\n",
      "      3190.0       0.00      0.00      0.00         0\n",
      "      3200.0       0.15      0.20      0.17        10\n",
      "      3205.0       0.00      0.00      0.00         1\n",
      "      3220.0       0.00      0.00      0.00         1\n",
      "      3230.0       0.00      0.00      0.00         0\n",
      "      3250.0       0.00      0.00      0.00         4\n",
      "      3260.0       0.00      0.00      0.00         0\n",
      "      3270.0       0.00      0.00      0.00         1\n",
      "      3280.0       0.00      0.00      0.00         2\n",
      "      3290.0       0.00      0.00      0.00         1\n",
      "      3300.0       0.36      0.22      0.28        18\n",
      "      3318.0       0.00      0.00      0.00         1\n",
      "      3320.0       0.00      0.00      0.00         1\n",
      "      3327.0       0.00      0.00      0.00         0\n",
      "      3350.0       0.00      0.00      0.00         0\n",
      "      3356.0       0.00      0.00      0.00         1\n",
      "      3390.0       0.00      0.00      0.00         0\n",
      "      3400.0       0.00      0.00      0.00         7\n",
      "      3445.0       0.00      0.00      0.00         0\n",
      "      3452.0       0.00      0.00      0.00         1\n",
      "      3463.0       0.00      0.00      0.00         1\n",
      "      3468.0       0.00      0.00      0.00         1\n",
      "      3470.0       0.00      0.00      0.00         1\n",
      "      3486.0       0.00      0.00      0.00         0\n",
      "      3491.0       0.00      0.00      0.00         1\n",
      "      3500.0       0.38      0.59      0.46        22\n",
      "      3510.0       0.00      0.00      0.00         0\n",
      "      3540.0       0.00      0.00      0.00         1\n",
      "      3550.0       0.00      0.00      0.00         1\n",
      "      3570.0       0.00      0.00      0.00         1\n",
      "      3599.0       0.00      0.00      0.00         0\n",
      "      3600.0       0.00      0.00      0.00         5\n",
      "      3695.0       0.00      0.00      0.00         1\n",
      "      3700.0       0.00      0.00      0.00         9\n",
      "      3740.0       0.00      0.00      0.00         1\n",
      "      3750.0       0.00      0.00      0.00         1\n",
      "      3760.0       0.00      0.00      0.00         1\n",
      "      3763.0       0.00      0.00      0.00         1\n",
      "      3790.0       0.00      0.00      0.00         1\n",
      "      3800.0       0.28      0.50      0.36        10\n",
      "      3801.0       0.00      0.00      0.00         1\n",
      "      3804.0       0.00      0.00      0.00         1\n",
      "      3850.0       0.00      0.00      0.00         1\n",
      "      3860.0       0.00      0.00      0.00         1\n",
      "      3870.0       0.00      0.00      0.00         1\n",
      "      3880.0       0.00      0.00      0.00         0\n",
      "      3890.0       0.00      0.00      0.00         0\n",
      "      3900.0       0.00      0.00      0.00         8\n",
      "      3950.0       0.00      0.00      0.00         1\n",
      "      3960.0       0.00      0.00      0.00         1\n",
      "      3978.0       0.00      0.00      0.00         1\n",
      "      3999.0       0.00      0.00      0.00         1\n",
      "      4000.0       0.33      0.62      0.43        16\n",
      "      4080.0       0.00      0.00      0.00         0\n",
      "      4100.0       0.00      0.00      0.00         4\n",
      "      4147.0       0.00      0.00      0.00         0\n",
      "      4150.0       0.00      0.00      0.00         1\n",
      "      4169.0       0.00      0.00      0.00         1\n",
      "      4200.0       0.14      0.12      0.13         8\n",
      "      4250.0       0.00      0.00      0.00         2\n",
      "      4300.0       0.00      0.00      0.00         4\n",
      "      4320.0       0.00      0.00      0.00         1\n",
      "      4325.0       0.00      0.00      0.00         0\n",
      "      4340.0       0.00      0.00      0.00         1\n",
      "      4348.0       0.00      0.00      0.00         2\n",
      "      4350.0       0.00      0.00      0.00         1\n",
      "      4387.0       0.00      0.00      0.00         1\n",
      "      4400.0       0.00      0.00      0.00         2\n",
      "      4420.0       0.00      0.00      0.00         1\n",
      "      4430.0       0.00      0.00      0.00         1\n",
      "      4440.0       0.00      0.00      0.00         1\n",
      "      4450.0       0.00      0.00      0.00         1\n",
      "      4477.0       0.00      0.00      0.00         1\n",
      "      4500.0       0.43      0.63      0.51        19\n",
      "      4529.0       0.00      0.00      0.00         1\n",
      "      4550.0       0.00      0.00      0.00         1\n",
      "      4600.0       0.00      0.00      0.00         3\n",
      "      4636.0       0.00      0.00      0.00         0\n",
      "      4675.0       0.00      0.00      0.00         0\n",
      "      4700.0       0.00      0.00      0.00         4\n",
      "      4750.0       0.00      0.00      0.00         0\n",
      "      4800.0       0.11      0.17      0.13         6\n",
      "      4850.0       0.00      0.00      0.00         0\n",
      "      4861.0       0.00      0.00      0.00         1\n",
      "      4880.0       0.00      0.00      0.00         1\n",
      "      4892.0       0.00      0.00      0.00         1\n",
      "      4900.0       0.00      0.00      0.00         1\n",
      "      4920.0       0.00      0.00      0.00         1\n",
      "      4930.0       0.00      0.00      0.00         1\n",
      "      4950.0       0.00      0.00      0.00         1\n",
      "      5000.0       0.48      0.48      0.48        21\n",
      "      5015.0       0.00      0.00      0.00         0\n",
      "      5050.0       0.00      0.00      0.00         1\n",
      "      5100.0       0.00      0.00      0.00         2\n",
      "      5150.0       0.00      0.00      0.00         1\n",
      "      5156.0       0.00      0.00      0.00         1\n",
      "      5200.0       0.00      0.00      0.00         5\n",
      "      5300.0       0.00      0.00      0.00         2\n",
      "      5350.0       0.00      0.00      0.00         1\n",
      "      5391.0       0.00      0.00      0.00         1\n",
      "      5400.0       0.00      0.00      0.00         0\n",
      "      5418.0       0.00      0.00      0.00         1\n",
      "      5500.0       0.57      0.71      0.63        17\n",
      "      5550.0       0.00      0.00      0.00         2\n",
      "      5600.0       0.00      0.00      0.00         1\n",
      "      5620.0       0.00      0.00      0.00         0\n",
      "      5650.0       0.00      0.00      0.00         1\n",
      "      5700.0       0.00      0.00      0.00         1\n",
      "      5702.0       0.00      0.00      0.00         0\n",
      "      5760.0       0.00      0.00      0.00         0\n",
      "      5800.0       0.50      0.17      0.25         6\n",
      "      5900.0       0.00      0.00      0.00         1\n",
      "      5950.0       0.00      0.00      0.00         1\n",
      "      6000.0       0.68      0.71      0.69        24\n",
      "      6160.0       0.00      0.00      0.00         1\n",
      "      6200.0       0.00      0.00      0.00         2\n",
      "      6250.0       0.00      0.00      0.00         1\n",
      "      6300.0       0.00      0.00      0.00         1\n",
      "      6400.0       0.00      0.00      0.00         2\n",
      "      6500.0       0.42      0.80      0.55        10\n",
      "      6520.0       0.00      0.00      0.00         1\n",
      "      6550.0       0.00      0.00      0.00         1\n",
      "      6600.0       0.00      0.00      0.00         1\n",
      "      6608.0       0.00      0.00      0.00         1\n",
      "      6650.0       0.00      0.00      0.00         1\n",
      "      6700.0       0.00      0.00      0.00         1\n",
      "      6715.0       0.00      0.00      0.00         1\n",
      "      6750.0       0.00      0.00      0.00         0\n",
      "      6800.0       0.00      0.00      0.00         3\n",
      "      6818.0       0.00      0.00      0.00         1\n",
      "      6900.0       0.00      0.00      0.00         1\n",
      "      6950.0       0.00      0.00      0.00         0\n",
      "      6970.0       0.00      0.00      0.00         1\n",
      "      6999.0       0.00      0.00      0.00         0\n",
      "      7000.0       0.71      0.71      0.71        21\n",
      "      7070.0       0.00      0.00      0.00         1\n",
      "      7150.0       0.00      0.00      0.00         1\n",
      "      7200.0       0.00      0.00      0.00         2\n",
      "      7225.0       0.00      0.00      0.00         0\n",
      "      7300.0       0.00      0.00      0.00         1\n",
      "      7450.0       0.00      0.00      0.00         1\n",
      "      7500.0       0.25      0.25      0.25         4\n",
      "      7511.0       0.00      0.00      0.00         1\n",
      "      7521.0       0.00      0.00      0.00         0\n",
      "      7600.0       0.00      0.00      0.00         2\n",
      "      7609.0       0.00      0.00      0.00         0\n",
      "      7650.0       0.00      0.00      0.00         2\n",
      "      7700.0       0.00      0.00      0.00         0\n",
      "      7800.0       0.00      0.00      0.00         2\n",
      "      7900.0       0.00      0.00      0.00         4\n",
      "      7948.0       0.00      0.00      0.00         0\n",
      "      8000.0       0.45      0.75      0.57        20\n",
      "      8100.0       0.00      0.00      0.00         1\n",
      "      8200.0       0.00      0.00      0.00         1\n",
      "      8268.0       0.00      0.00      0.00         0\n",
      "      8300.0       0.00      0.00      0.00         2\n",
      "      8330.0       0.00      0.00      0.00         0\n",
      "      8400.0       0.50      1.00      0.67         1\n",
      "      8500.0       0.36      0.33      0.35        12\n",
      "      8600.0       0.00      0.00      0.00         2\n",
      "      8670.0       0.00      0.00      0.00         0\n",
      "      8700.0       0.33      0.33      0.33         3\n",
      "      8800.0       0.00      0.00      0.00         2\n",
      "      8850.0       0.00      0.00      0.00         1\n",
      "      8900.0       0.00      0.00      0.00         2\n",
      "      8925.0       0.00      0.00      0.00         1\n",
      "      8950.0       0.00      0.00      0.00         1\n",
      "      9000.0       0.71      0.71      0.71        17\n",
      "      9100.0       0.00      0.00      0.00         0\n",
      "      9200.0       0.00      0.00      0.00         2\n",
      "      9350.0       0.00      0.00      0.00         1\n",
      "      9500.0       1.00      0.33      0.50         3\n",
      "      9670.0       0.00      0.00      0.00         1\n",
      "      9753.0       0.00      0.00      0.00         1\n",
      "      9800.0       0.00      0.00      0.00         1\n",
      "      9900.0       0.00      0.00      0.00         0\n",
      "     10000.0       0.62      0.84      0.71        19\n",
      "     10120.0       0.00      0.00      0.00         1\n",
      "     10160.0       0.00      0.00      0.00         0\n",
      "     10200.0       0.00      0.00      0.00         2\n",
      "     10400.0       0.00      0.00      0.00         1\n",
      "     10500.0       0.00      0.00      0.00         2\n",
      "     10600.0       0.00      0.00      0.00         1\n",
      "     10700.0       0.00      0.00      0.00         1\n",
      "     10840.0       0.00      0.00      0.00         0\n",
      "     10870.0       0.00      0.00      0.00         1\n",
      "     10900.0       0.00      0.00      0.00         2\n",
      "     11000.0       0.50      0.44      0.47         9\n",
      "     11050.0       0.00      0.00      0.00         2\n",
      "     11300.0       0.00      0.00      0.00         1\n",
      "     11470.0       0.00      0.00      0.00         1\n",
      "     11480.0       0.00      0.00      0.00         0\n",
      "     11500.0       0.25      0.50      0.33         2\n",
      "     11700.0       0.00      0.00      0.00         1\n",
      "     11900.0       0.00      0.00      0.00         0\n",
      "     12000.0       0.75      0.78      0.77        23\n",
      "     12500.0       0.00      0.00      0.00         3\n",
      "     12650.0       0.00      0.00      0.00         0\n",
      "     12750.0       0.50      0.33      0.40         3\n",
      "     12900.0       0.00      0.00      0.00         2\n",
      "     13000.0       0.25      0.33      0.29         6\n",
      "     13040.0       0.00      0.00      0.00         1\n",
      "     13500.0       0.00      0.00      0.00         1\n",
      "     13900.0       0.00      0.00      0.00         1\n",
      "     13970.0       0.00      0.00      0.00         1\n",
      "     14000.0       0.80      0.57      0.67         7\n",
      "     14450.0       0.00      0.00      0.00         1\n",
      "     14650.0       0.00      0.00      0.00         1\n",
      "     15000.0       0.76      1.00      0.87        26\n",
      "     19500.0       0.00      0.00      0.00         1\n",
      "\n",
      "    accuracy                           0.33      1132\n",
      "   macro avg       0.06      0.06      0.06      1132\n",
      "weighted avg       0.29      0.33      0.30      1132\n",
      "\n"
     ]
    },
    {
     "name": "stderr",
     "output_type": "stream",
     "text": [
      "C:\\Users\\d\\anaconda3\\Lib\\site-packages\\sklearn\\metrics\\_classification.py:1469: UndefinedMetricWarning: Precision and F-score are ill-defined and being set to 0.0 in labels with no predicted samples. Use `zero_division` parameter to control this behavior.\n",
      "  _warn_prf(average, modifier, msg_start, len(result))\n",
      "C:\\Users\\d\\anaconda3\\Lib\\site-packages\\sklearn\\metrics\\_classification.py:1469: UndefinedMetricWarning: Recall and F-score are ill-defined and being set to 0.0 in labels with no true samples. Use `zero_division` parameter to control this behavior.\n",
      "  _warn_prf(average, modifier, msg_start, len(result))\n",
      "C:\\Users\\d\\anaconda3\\Lib\\site-packages\\sklearn\\metrics\\_classification.py:1469: UndefinedMetricWarning: Precision and F-score are ill-defined and being set to 0.0 in labels with no predicted samples. Use `zero_division` parameter to control this behavior.\n",
      "  _warn_prf(average, modifier, msg_start, len(result))\n",
      "C:\\Users\\d\\anaconda3\\Lib\\site-packages\\sklearn\\metrics\\_classification.py:1469: UndefinedMetricWarning: Recall and F-score are ill-defined and being set to 0.0 in labels with no true samples. Use `zero_division` parameter to control this behavior.\n",
      "  _warn_prf(average, modifier, msg_start, len(result))\n",
      "C:\\Users\\d\\anaconda3\\Lib\\site-packages\\sklearn\\metrics\\_classification.py:1469: UndefinedMetricWarning: Precision and F-score are ill-defined and being set to 0.0 in labels with no predicted samples. Use `zero_division` parameter to control this behavior.\n",
      "  _warn_prf(average, modifier, msg_start, len(result))\n",
      "C:\\Users\\d\\anaconda3\\Lib\\site-packages\\sklearn\\metrics\\_classification.py:1469: UndefinedMetricWarning: Recall and F-score are ill-defined and being set to 0.0 in labels with no true samples. Use `zero_division` parameter to control this behavior.\n",
      "  _warn_prf(average, modifier, msg_start, len(result))\n"
     ]
    }
   ],
   "source": [
    "from sklearn.metrics import classification_report\n",
    "\n",
    "# Display the classification report\n",
    "print(classification_report(y_test, y_predict))"
   ]
  },
  {
   "cell_type": "code",
   "execution_count": 72,
   "id": "797a6be6",
   "metadata": {},
   "outputs": [],
   "source": [
    "import numpy as np\n",
    "neighbors = np.arange(1, 11)                  # number of neighbors\n",
    "train_accuracy = np.zeros(len(neighbors))     # Declare and initialise the matrix\n",
    "test_accuracy = np.zeros(len(neighbors))      # Declare and initialise the matrix"
   ]
  },
  {
   "cell_type": "code",
   "execution_count": 73,
   "id": "a24eacf0",
   "metadata": {},
   "outputs": [],
   "source": [
    "for i, k in enumerate(neighbors):                          # for loop that checks the model for neighbor values 1, 2, 3, ..., 10\n",
    "    kNN = KNeighborsClassifier(n_neighbors = k)            # Initialise an object knn using KNeighborsClassifier method\n",
    "\n",
    "    # Fit the model\n",
    "    kNN.fit(X_train, y_train)                              # Call fit method to implement the ML KNeighborsClassifier model\n",
    "\n",
    "    # Compute accuracy on the training set\n",
    "    train_accuracy[i] = kNN.score(X_train, y_train)        # Save the score value in the train_accuracy array\n",
    "\n",
    "    # Compute accuracy on the test set\n",
    "    test_accuracy[i] = kNN.score(X_test, y_test)           # Save the score value in the train_accuracy array"
   ]
  },
  {
   "cell_type": "code",
   "execution_count": 74,
   "id": "7faa5a85",
   "metadata": {},
   "outputs": [
    {
     "data": {
      "image/png": "[encoded data removed]",
      "text/plain": [
       "<Figure size 1000x600 with 1 Axes>"
      ]
     },
     "metadata": {},
     "output_type": "display_data"
    }
   ],
   "source": [
    "import matplotlib.pyplot as plt\n",
    "\n",
    "plt.figure(figsize = (10, 6))\n",
    "plt.title('KNN accuracy with varying number of neighbors', fontsize = 20)\n",
    "plt.plot(neighbors, test_accuracy, label = 'Testing Accuracy')\n",
    "plt.plot(neighbors, train_accuracy, label = 'Training accuracy')\n",
    "plt.legend(prop={'size': 20})\n",
    "plt.xlabel('Number of neighbors', fontsize = 20)\n",
    "plt.ylabel('Accuracy', fontsize = 20)\n",
    "plt.xticks(fontsize = 20)\n",
    "plt.yticks(fontsize = 20)\n",
    "plt.show()"
   ]
  },
  {
   "cell_type": "code",
   "execution_count": 75,
   "id": "7de798d5",
   "metadata": {
    "scrolled": true
   },
   "outputs": [
    {
     "data": {
      "image/png": "[encoded data removed]",
      "text/plain": [
       "<Figure size 1000x600 with 1 Axes>"
      ]
     },
     "metadata": {},
     "output_type": "display_data"
    }
   ],
   "source": [
    "# import the libraries\n",
    "import mglearn \n",
    "import matplotlib.pyplot as plt\n",
    "\n",
    "# plot k-neighbors regression with n_neighbors = 1\n",
    "mglearn.plots.plot_knn_regression(n_neighbors = 1)"
   ]
  },
  {
   "cell_type": "code",
   "execution_count": 76,
   "id": "96d9187a",
   "metadata": {
    "scrolled": true
   },
   "outputs": [
    {
     "data": {
      "image/png": "[encoded data removed]",
      "text/plain": [
       "<Figure size 1000x600 with 1 Axes>"
      ]
     },
     "metadata": {},
     "output_type": "display_data"
    }
   ],
   "source": [
    "# plot k-neighbors regression with n_neighbors = 3\n",
    "mglearn.plots.plot_knn_regression(n_neighbors = 3)"
   ]
  },
  {
   "cell_type": "code",
   "execution_count": 30,
   "id": "979edbd7",
   "metadata": {},
   "outputs": [
    {
     "data": {
      "text/plain": [
       "((4528, 10), (1132, 10), (4528,), (1132,))"
      ]
     },
     "execution_count": 30,
     "metadata": {},
     "output_type": "execute_result"
    }
   ],
   "source": [
    "\n",
    "X_train.shape, X_test.shape, y_train.shape, y_test.shape"
   ]
  },
  {
   "cell_type": "code",
   "execution_count": 31,
   "id": "f6df272c",
   "metadata": {},
   "outputs": [],
   "source": [
    "imputer = SimpleImputer(strategy='mean') \n",
    "X_train_imputed = imputer.fit_transform(X_train)\n",
    "X_test_imputed = imputer.transform(X_test)"
   ]
  },
  {
   "cell_type": "code",
   "execution_count": 32,
   "id": "aaf1aa0a",
   "metadata": {},
   "outputs": [],
   "source": [
    "reg = KNeighborsRegressor(n_neighbors=9)"
   ]
  },
  {
   "cell_type": "code",
   "execution_count": 33,
   "id": "417fe644",
   "metadata": {
    "scrolled": true
   },
   "outputs": [
    {
     "data": {
      "text/html": [
       "<style>#sk-container-id-1 {color: black;}#sk-container-id-1 pre{padding: 0;}#sk-container-id-1 div.sk-toggleable {background-color: white;}#sk-container-id-1 label.sk-toggleable__label {cursor: pointer;display: block;width: 100%;margin-bottom: 0;padding: 0.3em;box-sizing: border-box;text-align: center;}#sk-container-id-1 label.sk-toggleable__label-arrow:before {content: \"▸\";float: left;margin-right: 0.25em;color: #696969;}#sk-container-id-1 label.sk-toggleable__label-arrow:hover:before {color: black;}#sk-container-id-1 div.sk-estimator:hover label.sk-toggleable__label-arrow:before {color: black;}#sk-container-id-1 div.sk-toggleable__content {max-height: 0;max-width: 0;overflow: hidden;text-align: left;background-color: #f0f8ff;}#sk-container-id-1 div.sk-toggleable__content pre {margin: 0.2em;color: black;border-radius: 0.25em;background-color: #f0f8ff;}#sk-container-id-1 input.sk-toggleable__control:checked~div.sk-toggleable__content {max-height: 200px;max-width: 100%;overflow: auto;}#sk-container-id-1 input.sk-toggleable__control:checked~label.sk-toggleable__label-arrow:before {content: \"▾\";}#sk-container-id-1 div.sk-estimator input.sk-toggleable__control:checked~label.sk-toggleable__label {background-color: #d4ebff;}#sk-container-id-1 div.sk-label input.sk-toggleable__control:checked~label.sk-toggleable__label {background-color: #d4ebff;}#sk-container-id-1 input.sk-hidden--visually {border: 0;clip: rect(1px 1px 1px 1px);clip: rect(1px, 1px, 1px, 1px);height: 1px;margin: -1px;overflow: hidden;padding: 0;position: absolute;width: 1px;}#sk-container-id-1 div.sk-estimator {font-family: monospace;background-color: #f0f8ff;border: 1px dotted black;border-radius: 0.25em;box-sizing: border-box;margin-bottom: 0.5em;}#sk-container-id-1 div.sk-estimator:hover {background-color: #d4ebff;}#sk-container-id-1 div.sk-parallel-item::after {content: \"\";width: 100%;border-bottom: 1px solid gray;flex-grow: 1;}#sk-container-id-1 div.sk-label:hover label.sk-toggleable__label {background-color: #d4ebff;}#sk-container-id-1 div.sk-serial::before {content: \"\";position: absolute;border-left: 1px solid gray;box-sizing: border-box;top: 0;bottom: 0;left: 50%;z-index: 0;}#sk-container-id-1 div.sk-serial {display: flex;flex-direction: column;align-items: center;background-color: white;padding-right: 0.2em;padding-left: 0.2em;position: relative;}#sk-container-id-1 div.sk-item {position: relative;z-index: 1;}#sk-container-id-1 div.sk-parallel {display: flex;align-items: stretch;justify-content: center;background-color: white;position: relative;}#sk-container-id-1 div.sk-item::before, #sk-container-id-1 div.sk-parallel-item::before {content: \"\";position: absolute;border-left: 1px solid gray;box-sizing: border-box;top: 0;bottom: 0;left: 50%;z-index: -1;}#sk-container-id-1 div.sk-parallel-item {display: flex;flex-direction: column;z-index: 1;position: relative;background-color: white;}#sk-container-id-1 div.sk-parallel-item:first-child::after {align-self: flex-end;width: 50%;}#sk-container-id-1 div.sk-parallel-item:last-child::after {align-self: flex-start;width: 50%;}#sk-container-id-1 div.sk-parallel-item:only-child::after {width: 0;}#sk-container-id-1 div.sk-dashed-wrapped {border: 1px dashed gray;margin: 0 0.4em 0.5em 0.4em;box-sizing: border-box;padding-bottom: 0.4em;background-color: white;}#sk-container-id-1 div.sk-label label {font-family: monospace;font-weight: bold;display: inline-block;line-height: 1.2em;}#sk-container-id-1 div.sk-label-container {text-align: center;}#sk-container-id-1 div.sk-container {/* jupyter's `normalize.less` sets `[hidden] { display: none; }` but bootstrap.min.css set `[hidden] { display: none !important; }` so we also need the `!important` here to be able to override the default hidden behavior on the sphinx rendered scikit-learn.org. See: https://github.com/scikit-learn/scikit-learn/issues/21755 */display: inline-block !important;position: relative;}#sk-container-id-1 div.sk-text-repr-fallback {display: none;}</style><div id=\"sk-container-id-1\" class=\"sk-top-container\"><div class=\"sk-text-repr-fallback\"><pre>KNeighborsRegressor(n_neighbors=9)</pre><b>In a Jupyter environment, please rerun this cell to show the HTML representation or trust the notebook. <br />On GitHub, the HTML representation is unable to render, please try loading this page with nbviewer.org.</b></div><div class=\"sk-container\" hidden><div class=\"sk-item\"><div class=\"sk-estimator sk-toggleable\"><input class=\"sk-toggleable__control sk-hidden--visually\" id=\"sk-estimator-id-1\" type=\"checkbox\" checked><label for=\"sk-estimator-id-1\" class=\"sk-toggleable__label sk-toggleable__label-arrow\">KNeighborsRegressor</label><div class=\"sk-toggleable__content\"><pre>KNeighborsRegressor(n_neighbors=9)</pre></div></div></div></div></div>"
      ],
      "text/plain": [
       "KNeighborsRegressor(n_neighbors=9)"
      ]
     },
     "execution_count": 33,
     "metadata": {},
     "output_type": "execute_result"
    }
   ],
   "source": [
    "reg.fit(X_train, y_train)"
   ]
  },
  {
   "cell_type": "code",
   "execution_count": 77,
   "id": "98f8c953",
   "metadata": {
    "scrolled": true
   },
   "outputs": [
    {
     "name": "stdout",
     "output_type": "stream",
     "text": [
      "Test set predictions:\n",
      "[3302.22222222 2225.55555556 2392.55555556 ... 1730.55555556 3866.66666667\n",
      " 8777.77777778]\n"
     ]
    }
   ],
   "source": [
    "# Predict the results for X_test\n",
    "print(\"Test set predictions:\\n{}\".format(reg.predict(X_test)))"
   ]
  },
  {
   "cell_type": "code",
   "execution_count": 78,
   "id": "0c9946a4",
   "metadata": {},
   "outputs": [
    {
     "name": "stdout",
     "output_type": "stream",
     "text": [
      "Test set R^2: 0.99\n"
     ]
    }
   ],
   "source": [
    "# Calculate the R^2 score\n",
    "print(\"Test set R^2: {:.2f}\".format(reg.score(X_test, y_test)))"
   ]
  },
  {
   "cell_type": "code",
   "execution_count": 34,
   "id": "78283a7f",
   "metadata": {},
   "outputs": [],
   "source": [
    "y_pred = reg.predict(X_test)"
   ]
  },
  {
   "cell_type": "code",
   "execution_count": 35,
   "id": "33953d7f",
   "metadata": {},
   "outputs": [
    {
     "name": "stdout",
     "output_type": "stream",
     "text": [
      "Mean Squared Error (MSE): 74734.55143305851\n"
     ]
    }
   ],
   "source": [
    "mse = mean_squared_error(y_test, y_pred)\n",
    "print(\"Mean Squared Error (MSE):\", mse)"
   ]
  },
  {
   "cell_type": "code",
   "execution_count": 36,
   "id": "50b6abfe",
   "metadata": {},
   "outputs": [],
   "source": [
    "param_grid = {'n_neighbors': [3, 5, 7, 9, 11]}"
   ]
  },
  {
   "cell_type": "code",
   "execution_count": 37,
   "id": "1edbff42",
   "metadata": {},
   "outputs": [],
   "source": [
    "reg = KNeighborsRegressor()"
   ]
  },
  {
   "cell_type": "code",
   "execution_count": 38,
   "id": "74a8194b",
   "metadata": {},
   "outputs": [
    {
     "data": {
      "text/html": [
       "<style>#sk-container-id-2 {color: black;}#sk-container-id-2 pre{padding: 0;}#sk-container-id-2 div.sk-toggleable {background-color: white;}#sk-container-id-2 label.sk-toggleable__label {cursor: pointer;display: block;width: 100%;margin-bottom: 0;padding: 0.3em;box-sizing: border-box;text-align: center;}#sk-container-id-2 label.sk-toggleable__label-arrow:before {content: \"▸\";float: left;margin-right: 0.25em;color: #696969;}#sk-container-id-2 label.sk-toggleable__label-arrow:hover:before {color: black;}#sk-container-id-2 div.sk-estimator:hover label.sk-toggleable__label-arrow:before {color: black;}#sk-container-id-2 div.sk-toggleable__content {max-height: 0;max-width: 0;overflow: hidden;text-align: left;background-color: #f0f8ff;}#sk-container-id-2 div.sk-toggleable__content pre {margin: 0.2em;color: black;border-radius: 0.25em;background-color: #f0f8ff;}#sk-container-id-2 input.sk-toggleable__control:checked~div.sk-toggleable__content {max-height: 200px;max-width: 100%;overflow: auto;}#sk-container-id-2 input.sk-toggleable__control:checked~label.sk-toggleable__label-arrow:before {content: \"▾\";}#sk-container-id-2 div.sk-estimator input.sk-toggleable__control:checked~label.sk-toggleable__label {background-color: #d4ebff;}#sk-container-id-2 div.sk-label input.sk-toggleable__control:checked~label.sk-toggleable__label {background-color: #d4ebff;}#sk-container-id-2 input.sk-hidden--visually {border: 0;clip: rect(1px 1px 1px 1px);clip: rect(1px, 1px, 1px, 1px);height: 1px;margin: -1px;overflow: hidden;padding: 0;position: absolute;width: 1px;}#sk-container-id-2 div.sk-estimator {font-family: monospace;background-color: #f0f8ff;border: 1px dotted black;border-radius: 0.25em;box-sizing: border-box;margin-bottom: 0.5em;}#sk-container-id-2 div.sk-estimator:hover {background-color: #d4ebff;}#sk-container-id-2 div.sk-parallel-item::after {content: \"\";width: 100%;border-bottom: 1px solid gray;flex-grow: 1;}#sk-container-id-2 div.sk-label:hover label.sk-toggleable__label {background-color: #d4ebff;}#sk-container-id-2 div.sk-serial::before {content: \"\";position: absolute;border-left: 1px solid gray;box-sizing: border-box;top: 0;bottom: 0;left: 50%;z-index: 0;}#sk-container-id-2 div.sk-serial {display: flex;flex-direction: column;align-items: center;background-color: white;padding-right: 0.2em;padding-left: 0.2em;position: relative;}#sk-container-id-2 div.sk-item {position: relative;z-index: 1;}#sk-container-id-2 div.sk-parallel {display: flex;align-items: stretch;justify-content: center;background-color: white;position: relative;}#sk-container-id-2 div.sk-item::before, #sk-container-id-2 div.sk-parallel-item::before {content: \"\";position: absolute;border-left: 1px solid gray;box-sizing: border-box;top: 0;bottom: 0;left: 50%;z-index: -1;}#sk-container-id-2 div.sk-parallel-item {display: flex;flex-direction: column;z-index: 1;position: relative;background-color: white;}#sk-container-id-2 div.sk-parallel-item:first-child::after {align-self: flex-end;width: 50%;}#sk-container-id-2 div.sk-parallel-item:last-child::after {align-self: flex-start;width: 50%;}#sk-container-id-2 div.sk-parallel-item:only-child::after {width: 0;}#sk-container-id-2 div.sk-dashed-wrapped {border: 1px dashed gray;margin: 0 0.4em 0.5em 0.4em;box-sizing: border-box;padding-bottom: 0.4em;background-color: white;}#sk-container-id-2 div.sk-label label {font-family: monospace;font-weight: bold;display: inline-block;line-height: 1.2em;}#sk-container-id-2 div.sk-label-container {text-align: center;}#sk-container-id-2 div.sk-container {/* jupyter's `normalize.less` sets `[hidden] { display: none; }` but bootstrap.min.css set `[hidden] { display: none !important; }` so we also need the `!important` here to be able to override the default hidden behavior on the sphinx rendered scikit-learn.org. See: https://github.com/scikit-learn/scikit-learn/issues/21755 */display: inline-block !important;position: relative;}#sk-container-id-2 div.sk-text-repr-fallback {display: none;}</style><div id=\"sk-container-id-2\" class=\"sk-top-container\"><div class=\"sk-text-repr-fallback\"><pre>GridSearchCV(cv=5, estimator=KNeighborsRegressor(),\n",
       "             param_grid={&#x27;n_neighbors&#x27;: [3, 5, 7, 9, 11]},\n",
       "             scoring=&#x27;neg_mean_squared_error&#x27;)</pre><b>In a Jupyter environment, please rerun this cell to show the HTML representation or trust the notebook. <br />On GitHub, the HTML representation is unable to render, please try loading this page with nbviewer.org.</b></div><div class=\"sk-container\" hidden><div class=\"sk-item sk-dashed-wrapped\"><div class=\"sk-label-container\"><div class=\"sk-label sk-toggleable\"><input class=\"sk-toggleable__control sk-hidden--visually\" id=\"sk-estimator-id-2\" type=\"checkbox\" ><label for=\"sk-estimator-id-2\" class=\"sk-toggleable__label sk-toggleable__label-arrow\">GridSearchCV</label><div class=\"sk-toggleable__content\"><pre>GridSearchCV(cv=5, estimator=KNeighborsRegressor(),\n",
       "             param_grid={&#x27;n_neighbors&#x27;: [3, 5, 7, 9, 11]},\n",
       "             scoring=&#x27;neg_mean_squared_error&#x27;)</pre></div></div></div><div class=\"sk-parallel\"><div class=\"sk-parallel-item\"><div class=\"sk-item\"><div class=\"sk-label-container\"><div class=\"sk-label sk-toggleable\"><input class=\"sk-toggleable__control sk-hidden--visually\" id=\"sk-estimator-id-3\" type=\"checkbox\" ><label for=\"sk-estimator-id-3\" class=\"sk-toggleable__label sk-toggleable__label-arrow\">estimator: KNeighborsRegressor</label><div class=\"sk-toggleable__content\"><pre>KNeighborsRegressor()</pre></div></div></div><div class=\"sk-serial\"><div class=\"sk-item\"><div class=\"sk-estimator sk-toggleable\"><input class=\"sk-toggleable__control sk-hidden--visually\" id=\"sk-estimator-id-4\" type=\"checkbox\" ><label for=\"sk-estimator-id-4\" class=\"sk-toggleable__label sk-toggleable__label-arrow\">KNeighborsRegressor</label><div class=\"sk-toggleable__content\"><pre>KNeighborsRegressor()</pre></div></div></div></div></div></div></div></div></div></div>"
      ],
      "text/plain": [
       "GridSearchCV(cv=5, estimator=KNeighborsRegressor(),\n",
       "             param_grid={'n_neighbors': [3, 5, 7, 9, 11]},\n",
       "             scoring='neg_mean_squared_error')"
      ]
     },
     "execution_count": 38,
     "metadata": {},
     "output_type": "execute_result"
    }
   ],
   "source": [
    "grid_search = GridSearchCV(reg, param_grid, cv=5, scoring='neg_mean_squared_error')\n",
    "grid_search.fit(X_train, y_train)"
   ]
  },
  {
   "cell_type": "code",
   "execution_count": 39,
   "id": "d12e8e10",
   "metadata": {},
   "outputs": [
    {
     "name": "stdout",
     "output_type": "stream",
     "text": [
      "Melhor valor para n_neighbors: 9\n"
     ]
    }
   ],
   "source": [
    "best_n_neighbors = grid_search.best_params_['n_neighbors']\n",
    "print(\"Melhor valor para n_neighbors:\", best_n_neighbors)"
   ]
  },
  {
   "cell_type": "code",
   "execution_count": 40,
   "id": "241214dc",
   "metadata": {},
   "outputs": [
    {
     "name": "stdout",
     "output_type": "stream",
     "text": [
      "Mean Squared Error (MSE) com o melhor valor de n_neighbors: 74734.55143305851\n"
     ]
    }
   ],
   "source": [
    "best_knn_model = grid_search.best_estimator_\n",
    "y_pred = best_knn_model.predict(X_test)\n",
    "mse = mean_squared_error(y_test, y_pred)\n",
    "print(\"Mean Squared Error (MSE) com o melhor valor de n_neighbors:\", mse)"
   ]
  },
  {
   "cell_type": "code",
   "execution_count": 41,
   "id": "d660c4e2",
   "metadata": {},
   "outputs": [],
   "source": [
    "from sklearn.ensemble import RandomForestRegressor\n",
    "from sklearn.metrics import mean_squared_error\n"
   ]
  },
  {
   "cell_type": "code",
   "execution_count": 42,
   "id": "3459cc27",
   "metadata": {},
   "outputs": [],
   "source": [
    "rf_model = RandomForestRegressor(n_estimators=100, random_state=42)"
   ]
  },
  {
   "cell_type": "code",
   "execution_count": 43,
   "id": "25d8ce41",
   "metadata": {},
   "outputs": [
    {
     "data": {
      "text/html": [
       "<style>#sk-container-id-3 {color: black;}#sk-container-id-3 pre{padding: 0;}#sk-container-id-3 div.sk-toggleable {background-color: white;}#sk-container-id-3 label.sk-toggleable__label {cursor: pointer;display: block;width: 100%;margin-bottom: 0;padding: 0.3em;box-sizing: border-box;text-align: center;}#sk-container-id-3 label.sk-toggleable__label-arrow:before {content: \"▸\";float: left;margin-right: 0.25em;color: #696969;}#sk-container-id-3 label.sk-toggleable__label-arrow:hover:before {color: black;}#sk-container-id-3 div.sk-estimator:hover label.sk-toggleable__label-arrow:before {color: black;}#sk-container-id-3 div.sk-toggleable__content {max-height: 0;max-width: 0;overflow: hidden;text-align: left;background-color: #f0f8ff;}#sk-container-id-3 div.sk-toggleable__content pre {margin: 0.2em;color: black;border-radius: 0.25em;background-color: #f0f8ff;}#sk-container-id-3 input.sk-toggleable__control:checked~div.sk-toggleable__content {max-height: 200px;max-width: 100%;overflow: auto;}#sk-container-id-3 input.sk-toggleable__control:checked~label.sk-toggleable__label-arrow:before {content: \"▾\";}#sk-container-id-3 div.sk-estimator input.sk-toggleable__control:checked~label.sk-toggleable__label {background-color: #d4ebff;}#sk-container-id-3 div.sk-label input.sk-toggleable__control:checked~label.sk-toggleable__label {background-color: #d4ebff;}#sk-container-id-3 input.sk-hidden--visually {border: 0;clip: rect(1px 1px 1px 1px);clip: rect(1px, 1px, 1px, 1px);height: 1px;margin: -1px;overflow: hidden;padding: 0;position: absolute;width: 1px;}#sk-container-id-3 div.sk-estimator {font-family: monospace;background-color: #f0f8ff;border: 1px dotted black;border-radius: 0.25em;box-sizing: border-box;margin-bottom: 0.5em;}#sk-container-id-3 div.sk-estimator:hover {background-color: #d4ebff;}#sk-container-id-3 div.sk-parallel-item::after {content: \"\";width: 100%;border-bottom: 1px solid gray;flex-grow: 1;}#sk-container-id-3 div.sk-label:hover label.sk-toggleable__label {background-color: #d4ebff;}#sk-container-id-3 div.sk-serial::before {content: \"\";position: absolute;border-left: 1px solid gray;box-sizing: border-box;top: 0;bottom: 0;left: 50%;z-index: 0;}#sk-container-id-3 div.sk-serial {display: flex;flex-direction: column;align-items: center;background-color: white;padding-right: 0.2em;padding-left: 0.2em;position: relative;}#sk-container-id-3 div.sk-item {position: relative;z-index: 1;}#sk-container-id-3 div.sk-parallel {display: flex;align-items: stretch;justify-content: center;background-color: white;position: relative;}#sk-container-id-3 div.sk-item::before, #sk-container-id-3 div.sk-parallel-item::before {content: \"\";position: absolute;border-left: 1px solid gray;box-sizing: border-box;top: 0;bottom: 0;left: 50%;z-index: -1;}#sk-container-id-3 div.sk-parallel-item {display: flex;flex-direction: column;z-index: 1;position: relative;background-color: white;}#sk-container-id-3 div.sk-parallel-item:first-child::after {align-self: flex-end;width: 50%;}#sk-container-id-3 div.sk-parallel-item:last-child::after {align-self: flex-start;width: 50%;}#sk-container-id-3 div.sk-parallel-item:only-child::after {width: 0;}#sk-container-id-3 div.sk-dashed-wrapped {border: 1px dashed gray;margin: 0 0.4em 0.5em 0.4em;box-sizing: border-box;padding-bottom: 0.4em;background-color: white;}#sk-container-id-3 div.sk-label label {font-family: monospace;font-weight: bold;display: inline-block;line-height: 1.2em;}#sk-container-id-3 div.sk-label-container {text-align: center;}#sk-container-id-3 div.sk-container {/* jupyter's `normalize.less` sets `[hidden] { display: none; }` but bootstrap.min.css set `[hidden] { display: none !important; }` so we also need the `!important` here to be able to override the default hidden behavior on the sphinx rendered scikit-learn.org. See: https://github.com/scikit-learn/scikit-learn/issues/21755 */display: inline-block !important;position: relative;}#sk-container-id-3 div.sk-text-repr-fallback {display: none;}</style><div id=\"sk-container-id-3\" class=\"sk-top-container\"><div class=\"sk-text-repr-fallback\"><pre>RandomForestRegressor(random_state=42)</pre><b>In a Jupyter environment, please rerun this cell to show the HTML representation or trust the notebook. <br />On GitHub, the HTML representation is unable to render, please try loading this page with nbviewer.org.</b></div><div class=\"sk-container\" hidden><div class=\"sk-item\"><div class=\"sk-estimator sk-toggleable\"><input class=\"sk-toggleable__control sk-hidden--visually\" id=\"sk-estimator-id-5\" type=\"checkbox\" checked><label for=\"sk-estimator-id-5\" class=\"sk-toggleable__label sk-toggleable__label-arrow\">RandomForestRegressor</label><div class=\"sk-toggleable__content\"><pre>RandomForestRegressor(random_state=42)</pre></div></div></div></div></div>"
      ],
      "text/plain": [
       "RandomForestRegressor(random_state=42)"
      ]
     },
     "execution_count": 43,
     "metadata": {},
     "output_type": "execute_result"
    }
   ],
   "source": [
    "rf_model.fit(X_train, y_train)"
   ]
  },
  {
   "cell_type": "code",
   "execution_count": 44,
   "id": "366576a6",
   "metadata": {},
   "outputs": [],
   "source": [
    "y_pred_rf = rf_model.predict(X_test)"
   ]
  },
  {
   "cell_type": "code",
   "execution_count": 45,
   "id": "8caf770b",
   "metadata": {},
   "outputs": [
    {
     "name": "stdout",
     "output_type": "stream",
     "text": [
      "Mean Squared Error (MSE) com o modelo Random Forest: 93312.28169222614\n"
     ]
    }
   ],
   "source": [
    "mse_rf = mean_squared_error(y_test, y_pred_rf)\n",
    "print(\"Mean Squared Error (MSE) com o modelo Random Forest:\", mse_rf)"
   ]
  },
  {
   "cell_type": "code",
   "execution_count": 46,
   "id": "c5f5a9b8",
   "metadata": {},
   "outputs": [],
   "source": [
    "\n",
    "mse_rf = 777.30\n",
    "mse_knn = 209.977"
   ]
  },
  {
   "cell_type": "code",
   "execution_count": 47,
   "id": "5221054f",
   "metadata": {},
   "outputs": [],
   "source": [
    "\n",
    "rmse_rf = np.sqrt(mse_rf)\n",
    "rmse_knn = np.sqrt(mse_knn)"
   ]
  },
  {
   "cell_type": "code",
   "execution_count": 48,
   "id": "5bcd9d78",
   "metadata": {},
   "outputs": [
    {
     "name": "stdout",
     "output_type": "stream",
     "text": [
      "RMSE do modelo de regressão linear: 9.347726996441434\n",
      "RMSE do modelo Random Forest: 27.88010043023518\n",
      "RMSE do melhor valor de n_neighbors (KNN): 14.490583149066154\n"
     ]
    }
   ],
   "source": [
    "\n",
    "print(\"RMSE do modelo Random Forest:\", rmse_rf)\n",
    "print(\"RMSE do melhor valor de n_neighbors (KNN):\", np.sqrt(mse_knn))"
   ]
  },
  {
   "cell_type": "code",
   "execution_count": 49,
   "id": "69f2227c",
   "metadata": {},
   "outputs": [
    {
     "name": "stdout",
     "output_type": "stream",
     "text": [
      "0.9927684569791297\n"
     ]
    }
   ],
   "source": [
    "from sklearn.ensemble import RandomForestRegressor as regr\n",
    "model =regr()\n",
    "model.fit(X_train,y_train)\n",
    "print(r2_score(y_test,model.predict(X_test)))\n"
   ]
  },
  {
   "cell_type": "code",
   "execution_count": 50,
   "id": "0026a0a1",
   "metadata": {},
   "outputs": [
    {
     "name": "stdout",
     "output_type": "stream",
     "text": [
      "0.9956788597979435\n"
     ]
    }
   ],
   "source": [
    "from sklearn.neighbors import KNeighborsRegressor\n",
    "from sklearn.metrics import r2_score\n",
    "\n",
    "model = KNeighborsRegressor()\n",
    "model.fit(X_train, y_train)\n",
    "print(r2_score(y_test, model.predict(X_test)))"
   ]
  },
  {
   "cell_type": "code",
   "execution_count": 51,
   "id": "062d0288",
   "metadata": {},
   "outputs": [],
   "source": [
    "X_train, X_test, y_train, y_test = train_test_split(X, y, test_size=0.25, random_state=42)"
   ]
  },
  {
   "cell_type": "code",
   "execution_count": 52,
   "id": "905fdca7",
   "metadata": {},
   "outputs": [],
   "source": [
    "imputer = SimpleImputer(strategy='mean') \n",
    "X_train_imputed = imputer.fit_transform(X_train)\n",
    "X_test_imputed = imputer.transform(X_test)"
   ]
  },
  {
   "cell_type": "code",
   "execution_count": 53,
   "id": "92f98d41",
   "metadata": {},
   "outputs": [],
   "source": [
    "reg = KNeighborsRegressor(n_neighbors=9)"
   ]
  },
  {
   "cell_type": "code",
   "execution_count": 54,
   "id": "15b44a67",
   "metadata": {},
   "outputs": [
    {
     "data": {
      "text/html": [
       "<style>#sk-container-id-4 {color: black;}#sk-container-id-4 pre{padding: 0;}#sk-container-id-4 div.sk-toggleable {background-color: white;}#sk-container-id-4 label.sk-toggleable__label {cursor: pointer;display: block;width: 100%;margin-bottom: 0;padding: 0.3em;box-sizing: border-box;text-align: center;}#sk-container-id-4 label.sk-toggleable__label-arrow:before {content: \"▸\";float: left;margin-right: 0.25em;color: #696969;}#sk-container-id-4 label.sk-toggleable__label-arrow:hover:before {color: black;}#sk-container-id-4 div.sk-estimator:hover label.sk-toggleable__label-arrow:before {color: black;}#sk-container-id-4 div.sk-toggleable__content {max-height: 0;max-width: 0;overflow: hidden;text-align: left;background-color: #f0f8ff;}#sk-container-id-4 div.sk-toggleable__content pre {margin: 0.2em;color: black;border-radius: 0.25em;background-color: #f0f8ff;}#sk-container-id-4 input.sk-toggleable__control:checked~div.sk-toggleable__content {max-height: 200px;max-width: 100%;overflow: auto;}#sk-container-id-4 input.sk-toggleable__control:checked~label.sk-toggleable__label-arrow:before {content: \"▾\";}#sk-container-id-4 div.sk-estimator input.sk-toggleable__control:checked~label.sk-toggleable__label {background-color: #d4ebff;}#sk-container-id-4 div.sk-label input.sk-toggleable__control:checked~label.sk-toggleable__label {background-color: #d4ebff;}#sk-container-id-4 input.sk-hidden--visually {border: 0;clip: rect(1px 1px 1px 1px);clip: rect(1px, 1px, 1px, 1px);height: 1px;margin: -1px;overflow: hidden;padding: 0;position: absolute;width: 1px;}#sk-container-id-4 div.sk-estimator {font-family: monospace;background-color: #f0f8ff;border: 1px dotted black;border-radius: 0.25em;box-sizing: border-box;margin-bottom: 0.5em;}#sk-container-id-4 div.sk-estimator:hover {background-color: #d4ebff;}#sk-container-id-4 div.sk-parallel-item::after {content: \"\";width: 100%;border-bottom: 1px solid gray;flex-grow: 1;}#sk-container-id-4 div.sk-label:hover label.sk-toggleable__label {background-color: #d4ebff;}#sk-container-id-4 div.sk-serial::before {content: \"\";position: absolute;border-left: 1px solid gray;box-sizing: border-box;top: 0;bottom: 0;left: 50%;z-index: 0;}#sk-container-id-4 div.sk-serial {display: flex;flex-direction: column;align-items: center;background-color: white;padding-right: 0.2em;padding-left: 0.2em;position: relative;}#sk-container-id-4 div.sk-item {position: relative;z-index: 1;}#sk-container-id-4 div.sk-parallel {display: flex;align-items: stretch;justify-content: center;background-color: white;position: relative;}#sk-container-id-4 div.sk-item::before, #sk-container-id-4 div.sk-parallel-item::before {content: \"\";position: absolute;border-left: 1px solid gray;box-sizing: border-box;top: 0;bottom: 0;left: 50%;z-index: -1;}#sk-container-id-4 div.sk-parallel-item {display: flex;flex-direction: column;z-index: 1;position: relative;background-color: white;}#sk-container-id-4 div.sk-parallel-item:first-child::after {align-self: flex-end;width: 50%;}#sk-container-id-4 div.sk-parallel-item:last-child::after {align-self: flex-start;width: 50%;}#sk-container-id-4 div.sk-parallel-item:only-child::after {width: 0;}#sk-container-id-4 div.sk-dashed-wrapped {border: 1px dashed gray;margin: 0 0.4em 0.5em 0.4em;box-sizing: border-box;padding-bottom: 0.4em;background-color: white;}#sk-container-id-4 div.sk-label label {font-family: monospace;font-weight: bold;display: inline-block;line-height: 1.2em;}#sk-container-id-4 div.sk-label-container {text-align: center;}#sk-container-id-4 div.sk-container {/* jupyter's `normalize.less` sets `[hidden] { display: none; }` but bootstrap.min.css set `[hidden] { display: none !important; }` so we also need the `!important` here to be able to override the default hidden behavior on the sphinx rendered scikit-learn.org. See: https://github.com/scikit-learn/scikit-learn/issues/21755 */display: inline-block !important;position: relative;}#sk-container-id-4 div.sk-text-repr-fallback {display: none;}</style><div id=\"sk-container-id-4\" class=\"sk-top-container\"><div class=\"sk-text-repr-fallback\"><pre>KNeighborsRegressor(n_neighbors=9)</pre><b>In a Jupyter environment, please rerun this cell to show the HTML representation or trust the notebook. <br />On GitHub, the HTML representation is unable to render, please try loading this page with nbviewer.org.</b></div><div class=\"sk-container\" hidden><div class=\"sk-item\"><div class=\"sk-estimator sk-toggleable\"><input class=\"sk-toggleable__control sk-hidden--visually\" id=\"sk-estimator-id-6\" type=\"checkbox\" checked><label for=\"sk-estimator-id-6\" class=\"sk-toggleable__label sk-toggleable__label-arrow\">KNeighborsRegressor</label><div class=\"sk-toggleable__content\"><pre>KNeighborsRegressor(n_neighbors=9)</pre></div></div></div></div></div>"
      ],
      "text/plain": [
       "KNeighborsRegressor(n_neighbors=9)"
      ]
     },
     "execution_count": 54,
     "metadata": {},
     "output_type": "execute_result"
    }
   ],
   "source": [
    "reg.fit(X_train, y_train)"
   ]
  },
  {
   "cell_type": "code",
   "execution_count": 55,
   "id": "7ac33ed1",
   "metadata": {},
   "outputs": [],
   "source": [
    "y_pred = reg.predict(X_test)"
   ]
  },
  {
   "cell_type": "code",
   "execution_count": 56,
   "id": "eb4c30d7",
   "metadata": {},
   "outputs": [
    {
     "name": "stdout",
     "output_type": "stream",
     "text": [
      "Mean Squared Error (MSE): 80358.93995550321\n"
     ]
    }
   ],
   "source": [
    "mse = mean_squared_error(y_test, y_pred)\n",
    "print(\"Mean Squared Error (MSE):\", mse)"
   ]
  },
  {
   "cell_type": "code",
   "execution_count": 57,
   "id": "c430db76",
   "metadata": {},
   "outputs": [],
   "source": [
    "X_train, X_test, y_train, y_test = train_test_split(X, y, test_size=0.30, random_state=42)"
   ]
  },
  {
   "cell_type": "code",
   "execution_count": 58,
   "id": "68808fa3",
   "metadata": {},
   "outputs": [],
   "source": [
    "imputer = SimpleImputer(strategy='mean')\n",
    "X_train_imputed = imputer.fit_transform(X_train)\n",
    "X_test_imputed = imputer.transform(X_test)"
   ]
  },
  {
   "cell_type": "code",
   "execution_count": 59,
   "id": "d50b2369",
   "metadata": {},
   "outputs": [],
   "source": [
    "reg = KNeighborsRegressor(n_neighbors=9)"
   ]
  },
  {
   "cell_type": "code",
   "execution_count": 60,
   "id": "f476c68e",
   "metadata": {},
   "outputs": [
    {
     "data": {
      "text/html": [
       "<style>#sk-container-id-5 {color: black;}#sk-container-id-5 pre{padding: 0;}#sk-container-id-5 div.sk-toggleable {background-color: white;}#sk-container-id-5 label.sk-toggleable__label {cursor: pointer;display: block;width: 100%;margin-bottom: 0;padding: 0.3em;box-sizing: border-box;text-align: center;}#sk-container-id-5 label.sk-toggleable__label-arrow:before {content: \"▸\";float: left;margin-right: 0.25em;color: #696969;}#sk-container-id-5 label.sk-toggleable__label-arrow:hover:before {color: black;}#sk-container-id-5 div.sk-estimator:hover label.sk-toggleable__label-arrow:before {color: black;}#sk-container-id-5 div.sk-toggleable__content {max-height: 0;max-width: 0;overflow: hidden;text-align: left;background-color: #f0f8ff;}#sk-container-id-5 div.sk-toggleable__content pre {margin: 0.2em;color: black;border-radius: 0.25em;background-color: #f0f8ff;}#sk-container-id-5 input.sk-toggleable__control:checked~div.sk-toggleable__content {max-height: 200px;max-width: 100%;overflow: auto;}#sk-container-id-5 input.sk-toggleable__control:checked~label.sk-toggleable__label-arrow:before {content: \"▾\";}#sk-container-id-5 div.sk-estimator input.sk-toggleable__control:checked~label.sk-toggleable__label {background-color: #d4ebff;}#sk-container-id-5 div.sk-label input.sk-toggleable__control:checked~label.sk-toggleable__label {background-color: #d4ebff;}#sk-container-id-5 input.sk-hidden--visually {border: 0;clip: rect(1px 1px 1px 1px);clip: rect(1px, 1px, 1px, 1px);height: 1px;margin: -1px;overflow: hidden;padding: 0;position: absolute;width: 1px;}#sk-container-id-5 div.sk-estimator {font-family: monospace;background-color: #f0f8ff;border: 1px dotted black;border-radius: 0.25em;box-sizing: border-box;margin-bottom: 0.5em;}#sk-container-id-5 div.sk-estimator:hover {background-color: #d4ebff;}#sk-container-id-5 div.sk-parallel-item::after {content: \"\";width: 100%;border-bottom: 1px solid gray;flex-grow: 1;}#sk-container-id-5 div.sk-label:hover label.sk-toggleable__label {background-color: #d4ebff;}#sk-container-id-5 div.sk-serial::before {content: \"\";position: absolute;border-left: 1px solid gray;box-sizing: border-box;top: 0;bottom: 0;left: 50%;z-index: 0;}#sk-container-id-5 div.sk-serial {display: flex;flex-direction: column;align-items: center;background-color: white;padding-right: 0.2em;padding-left: 0.2em;position: relative;}#sk-container-id-5 div.sk-item {position: relative;z-index: 1;}#sk-container-id-5 div.sk-parallel {display: flex;align-items: stretch;justify-content: center;background-color: white;position: relative;}#sk-container-id-5 div.sk-item::before, #sk-container-id-5 div.sk-parallel-item::before {content: \"\";position: absolute;border-left: 1px solid gray;box-sizing: border-box;top: 0;bottom: 0;left: 50%;z-index: -1;}#sk-container-id-5 div.sk-parallel-item {display: flex;flex-direction: column;z-index: 1;position: relative;background-color: white;}#sk-container-id-5 div.sk-parallel-item:first-child::after {align-self: flex-end;width: 50%;}#sk-container-id-5 div.sk-parallel-item:last-child::after {align-self: flex-start;width: 50%;}#sk-container-id-5 div.sk-parallel-item:only-child::after {width: 0;}#sk-container-id-5 div.sk-dashed-wrapped {border: 1px dashed gray;margin: 0 0.4em 0.5em 0.4em;box-sizing: border-box;padding-bottom: 0.4em;background-color: white;}#sk-container-id-5 div.sk-label label {font-family: monospace;font-weight: bold;display: inline-block;line-height: 1.2em;}#sk-container-id-5 div.sk-label-container {text-align: center;}#sk-container-id-5 div.sk-container {/* jupyter's `normalize.less` sets `[hidden] { display: none; }` but bootstrap.min.css set `[hidden] { display: none !important; }` so we also need the `!important` here to be able to override the default hidden behavior on the sphinx rendered scikit-learn.org. See: https://github.com/scikit-learn/scikit-learn/issues/21755 */display: inline-block !important;position: relative;}#sk-container-id-5 div.sk-text-repr-fallback {display: none;}</style><div id=\"sk-container-id-5\" class=\"sk-top-container\"><div class=\"sk-text-repr-fallback\"><pre>KNeighborsRegressor(n_neighbors=9)</pre><b>In a Jupyter environment, please rerun this cell to show the HTML representation or trust the notebook. <br />On GitHub, the HTML representation is unable to render, please try loading this page with nbviewer.org.</b></div><div class=\"sk-container\" hidden><div class=\"sk-item\"><div class=\"sk-estimator sk-toggleable\"><input class=\"sk-toggleable__control sk-hidden--visually\" id=\"sk-estimator-id-7\" type=\"checkbox\" checked><label for=\"sk-estimator-id-7\" class=\"sk-toggleable__label sk-toggleable__label-arrow\">KNeighborsRegressor</label><div class=\"sk-toggleable__content\"><pre>KNeighborsRegressor(n_neighbors=9)</pre></div></div></div></div></div>"
      ],
      "text/plain": [
       "KNeighborsRegressor(n_neighbors=9)"
      ]
     },
     "execution_count": 60,
     "metadata": {},
     "output_type": "execute_result"
    }
   ],
   "source": [
    "reg.fit(X_train, y_train)"
   ]
  },
  {
   "cell_type": "code",
   "execution_count": 61,
   "id": "f27ab02b",
   "metadata": {},
   "outputs": [],
   "source": [
    "y_pred = reg.predict(X_test)"
   ]
  },
  {
   "cell_type": "code",
   "execution_count": 62,
   "id": "a436f1dd",
   "metadata": {},
   "outputs": [
    {
     "name": "stdout",
     "output_type": "stream",
     "text": [
      "Mean Squared Error (MSE): 205108.33629978623\n"
     ]
    }
   ],
   "source": [
    "mse = mean_squared_error(y_test, y_pred)\n",
    "print(\"Mean Squared Error (MSE):\", mse)"
   ]
  },
  {
   "cell_type": "code",
   "execution_count": 63,
   "id": "d037ebae",
   "metadata": {},
   "outputs": [],
   "source": [
    "from sklearn.model_selection import train_test_split\n",
    "\n",
    "X = df[['furniture','area','hoa', 'property tax', 'fire insurance', 'total', 'area', 'rooms', 'bathroom', 'animal']]\n",
    "y = df['rent amount']\n",
    "\n",
    "X_train, X_test, y_train, y_test = train_test_split(X, y, test_size = 0.2,  random_state = 42) # 70% training and 30% test"
   ]
  },
  {
   "cell_type": "code",
   "execution_count": 64,
   "id": "25a4c733",
   "metadata": {},
   "outputs": [],
   "source": [
    "from sklearn.ensemble import RandomForestClassifier\n",
    "\n",
    "#Create a Gaussian Classifier\n",
    "clf_RF = RandomForestClassifier(n_estimators = 100)\n",
    "\n",
    "#Train the model using the training sets y_pred=clf.predict(X_test)\n",
    "clf_RF.fit(X_train, y_train)\n",
    "\n",
    "y_pred = clf_RF.predict(X_test)"
   ]
  },
  {
   "cell_type": "code",
   "execution_count": 65,
   "id": "f6c83f27",
   "metadata": {},
   "outputs": [
    {
     "name": "stdout",
     "output_type": "stream",
     "text": [
      "Accuracy: 0.49823321554770317\n",
      "Accuracy: 0.50\n"
     ]
    }
   ],
   "source": [
    "#Import scikit-learn metrics module for accuracy calculation\n",
    "from sklearn import metrics\n",
    "\n",
    "# Model Accuracy, how often is the classifier correct?\n",
    "print(\"Accuracy:\",metrics.accuracy_score(y_test, y_pred))\n",
    "\n",
    "# Rounded upto 2 decimal places\n",
    "print( \"Accuracy: {:.2f}\".format(metrics.accuracy_score(y_test, y_pred)) )"
   ]
  },
  {
   "cell_type": "code",
   "execution_count": 66,
   "id": "e7b39060",
   "metadata": {},
   "outputs": [
    {
     "data": {
      "text/plain": [
       "4    0.307037\n",
       "5    0.179474\n",
       "2    0.106960\n",
       "3    0.105597\n",
       "1    0.095475\n",
       "6    0.094672\n",
       "8    0.034541\n",
       "7    0.034324\n",
       "9    0.022472\n",
       "0    0.019448\n",
       "dtype: float64"
      ]
     },
     "execution_count": 66,
     "metadata": {},
     "output_type": "execute_result"
    }
   ],
   "source": [
    "import pandas as pd\n",
    "feature_imp = pd.Series(clf_RF.feature_importances_).sort_values(ascending = False)\n",
    "feature_imp"
   ]
  },
  {
   "cell_type": "code",
   "execution_count": 79,
   "id": "b8016623",
   "metadata": {},
   "outputs": [],
   "source": [
    "X_train, X_test, y_train, y_test = train_test_split(X, y, test_size = 0.25,  random_state = 42) # 70% training and 30% test"
   ]
  },
  {
   "cell_type": "code",
   "execution_count": 80,
   "id": "e7250d66",
   "metadata": {},
   "outputs": [],
   "source": [
    "#Import Random Forest Model\n",
    "from sklearn.ensemble import RandomForestClassifier\n",
    "\n",
    "#Create a Gaussian Classifier\n",
    "clf_RF = RandomForestClassifier(n_estimators = 100)\n",
    "\n",
    "#Train the model using the training sets y_pred=clf.predict(X_test)\n",
    "clf_RF.fit(X_train, y_train)\n",
    "\n",
    "y_pred = clf_RF.predict(X_test)"
   ]
  },
  {
   "cell_type": "code",
   "execution_count": 81,
   "id": "8d61e440",
   "metadata": {},
   "outputs": [
    {
     "name": "stdout",
     "output_type": "stream",
     "text": [
      "Accuracy: 0.488339222614841\n",
      "Accuracy: 0.49\n"
     ]
    }
   ],
   "source": [
    "#Import scikit-learn metrics module for accuracy calculation\n",
    "from sklearn import metrics\n",
    "\n",
    "# Model Accuracy, how often is the classifier correct?\n",
    "print(\"Accuracy:\",metrics.accuracy_score(y_test, y_pred))\n",
    "\n",
    "# Rounded upto 2 decimal places\n",
    "print( \"Accuracy: {:.2f}\".format(metrics.accuracy_score(y_test, y_pred)) )"
   ]
  },
  {
   "cell_type": "code",
   "execution_count": 82,
   "id": "82c917ad",
   "metadata": {},
   "outputs": [],
   "source": [
    "X_train, X_test, y_train, y_test = train_test_split(X, y, test_size = 0.30,  random_state = 42) # 70% training and 30% test"
   ]
  },
  {
   "cell_type": "code",
   "execution_count": 84,
   "id": "78f0fd73",
   "metadata": {},
   "outputs": [],
   "source": [
    "#Import Random Forest Model\n",
    "from sklearn.ensemble import RandomForestClassifier\n",
    "\n",
    "#Create a Gaussian Classifier\n",
    "clf_RF = RandomForestClassifier(n_estimators = 100)\n",
    "\n",
    "#Train the model using the training sets y_pred=clf.predict(X_test)\n",
    "clf_RF.fit(X_train, y_train)\n",
    "\n",
    "y_pred = clf_RF.predict(X_test)"
   ]
  },
  {
   "cell_type": "code",
   "execution_count": 85,
   "id": "10b862cf",
   "metadata": {},
   "outputs": [
    {
     "name": "stdout",
     "output_type": "stream",
     "text": [
      "Accuracy: 0.4890459363957597\n",
      "Accuracy: 0.49\n"
     ]
    }
   ],
   "source": [
    "#Import scikit-learn metrics module for accuracy calculation\n",
    "from sklearn import metrics\n",
    "\n",
    "# Model Accuracy, how often is the classifier correct?\n",
    "print(\"Accuracy:\",metrics.accuracy_score(y_test, y_pred))\n",
    "\n",
    "# Rounded upto 2 decimal places\n",
    "print( \"Accuracy: {:.2f}\".format(metrics.accuracy_score(y_test, y_pred)) )"
   ]
  },
  {
   "cell_type": "code",
   "execution_count": 88,
   "id": "36b02c40",
   "metadata": {},
   "outputs": [
    {
     "ename": "NameError",
     "evalue": "name 'export_graphviz' is not defined",
     "output_type": "error",
     "traceback": [
      "\u001b[1;31m---------------------------------------------------------------------------\u001b[0m",
      "\u001b[1;31mNameError\u001b[0m                                 Traceback (most recent call last)",
      "Cell \u001b[1;32mIn[88], line 3\u001b[0m\n\u001b[0;32m      1\u001b[0m \u001b[38;5;28;01mfor\u001b[39;00m i \u001b[38;5;129;01min\u001b[39;00m \u001b[38;5;28mrange\u001b[39m(\u001b[38;5;241m3\u001b[39m):\n\u001b[0;32m      2\u001b[0m     tree \u001b[38;5;241m=\u001b[39m rf_model\u001b[38;5;241m.\u001b[39mestimators_[i]\n\u001b[1;32m----> 3\u001b[0m     dot_data \u001b[38;5;241m=\u001b[39m export_graphviz(tree,\n\u001b[0;32m      4\u001b[0m                                feature_names\u001b[38;5;241m=\u001b[39mX_train\u001b[38;5;241m.\u001b[39mcolumns,  \n\u001b[0;32m      5\u001b[0m                                filled\u001b[38;5;241m=\u001b[39m\u001b[38;5;28;01mTrue\u001b[39;00m,  \n\u001b[0;32m      6\u001b[0m                                max_depth\u001b[38;5;241m=\u001b[39m\u001b[38;5;241m2\u001b[39m, \n\u001b[0;32m      7\u001b[0m                                impurity\u001b[38;5;241m=\u001b[39m\u001b[38;5;28;01mFalse\u001b[39;00m, \n\u001b[0;32m      8\u001b[0m                                proportion\u001b[38;5;241m=\u001b[39m\u001b[38;5;28;01mTrue\u001b[39;00m)\n\u001b[0;32m      9\u001b[0m     graph \u001b[38;5;241m=\u001b[39m graphviz\u001b[38;5;241m.\u001b[39mSource(dot_data)\n\u001b[0;32m     10\u001b[0m     display(graph)\n",
      "\u001b[1;31mNameError\u001b[0m: name 'export_graphviz' is not defined"
     ]
    }
   ],
   "source": [
    "for i in range(3):\n",
    "    tree = rf_model.estimators_[i]\n",
    "    dot_data = export_graphviz(tree,\n",
    "                               feature_names=X_train.columns,  \n",
    "                               filled=True,  \n",
    "                               max_depth=2, \n",
    "                               impurity=False, \n",
    "                               proportion=True)\n",
    "    graph = graphviz.Source(dot_data)\n",
    "    display(graph)"
   ]
  },
  {
   "cell_type": "code",
   "execution_count": null,
   "id": "0bf05ddb",
   "metadata": {},
   "outputs": [],
   "source": []
  }
 ],
 "metadata": {
  "kernelspec": {
   "display_name": "Python 3 (ipykernel)",
   "language": "python",
   "name": "python3"
  },
  "language_info": {
   "codemirror_mode": {
    "name": "ipython",
    "version": 3
   },
   "file_extension": ".py",
   "mimetype": "text/x-python",
   "name": "python",
   "nbconvert_exporter": "python",
   "pygments_lexer": "ipython3",
   "version": "3.11.5"
  }
 },
 "nbformat": 4,
 "nbformat_minor": 5
}
